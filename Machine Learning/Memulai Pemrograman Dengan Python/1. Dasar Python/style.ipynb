{
 "metadata": {
  "language_info": {
   "codemirror_mode": {
    "name": "ipython",
    "version": 3
   },
   "file_extension": ".py",
   "mimetype": "text/x-python",
   "name": "python",
   "nbconvert_exporter": "python",
   "pygments_lexer": "ipython3",
   "version": "3.9.4"
  },
  "orig_nbformat": 2,
  "kernelspec": {
   "name": "python394jvsc74a57bd0b839018028d7c5166b93bdc4222a30f5462b9cb20ffe1b3af6c70f0ea8ead087",
   "display_name": "Python 3.9.4 64-bit"
  }
 },
 "nbformat": 4,
 "nbformat_minor": 2,
 "cells": [
  {
   "source": [
    "# Style Guide pada Python Code"
   ],
   "cell_type": "markdown",
   "metadata": {}
  },
  {
   "source": [
    "## Indentasi"
   ],
   "cell_type": "markdown",
   "metadata": {}
  },
  {
   "source": [
    "```\n",
    "Statement tingkat 1:\n",
    "    Statement tingkat 2()\n",
    "    Statement tingkat 2 yang kedua()\n",
    "```"
   ],
   "cell_type": "markdown",
   "metadata": {}
  },
  {
   "source": [
    "## Baris Lanjutan"
   ],
   "cell_type": "markdown",
   "metadata": {}
  },
  {
   "source": [
    "### Disarankan\n",
    "```\n",
    "# Opsi 1\n",
    "# Rata kiri dengan kurung atau pemisah dengan argumen utama\n",
    "foo = long_function_name(var_one, var_two,\n",
    "                         var_three, var_four)\n",
    "\n",
    "# Opsi 2\n",
    "# Tambahkan indentasi ekstra - (level indentasi baru) untuk memisahkan parameter/argument dari bagian lainnya\n",
    "def long_function_name(\n",
    "        var_one, var_two, var_three,\n",
    "        var_four):\n",
    "    print(var_one)\n",
    "\n",
    "# Opsi 3\n",
    "# Hanging indents dengan penambahan level indentasi saja\n",
    "foo = long_function_name(\n",
    "    var_one, var_two,\n",
    "    var_three, var_four)\n",
    "```"
   ],
   "cell_type": "markdown",
   "metadata": {}
  },
  {
   "source": [
    "### Tidak Disarankan\n",
    "\n",
    "```\n",
    "# Contoh kesalahan 1\n",
    "# Tidak rata kiri dengan bagian yang relevan\n",
    "foo = long_function_name(var_one, var_two,\n",
    "    var_three, var_four)\n",
    " \n",
    "# Contoh kesalahan 2\n",
    "# Sulit dibedakan antara baris lanjutan atau fungsi baru\n",
    "def long_function_name(\n",
    "    var_one, var_two, var_three,\n",
    "    var_four):\n",
    "    print(var_one)\n",
    "```"
   ],
   "cell_type": "markdown",
   "metadata": {}
  },
  {
   "source": [
    "```\n",
    "# Hanging indents *boleh* menggunakan selain 4 spasi\n",
    "foo = long_function_name(\n",
    "  var_one, var_two,\n",
    "  var_three, var_four)\n",
    "```"
   ],
   "cell_type": "markdown",
   "metadata": {}
  },
  {
   "source": [
    "## Kondisional (If)"
   ],
   "cell_type": "markdown",
   "metadata": {}
  },
  {
   "source": [
    "```\n",
    "# Contoh kondisi visual yang tidak diubah/tanpa indentasi\n",
    "if (sebuah kondisi dan\n",
    "    kondisi yang lain):\n",
    "    lakukanSesuatu()\n",
    "\n",
    "# Tambahkan komentar\n",
    "if (sebuah kondisi dan\n",
    "    kondisi yang lain):\n",
    "    #Mengingat Keduanya Benar, lakukan hal berikut\n",
    "    lakukanSesuatu()\n",
    "\n",
    "# Tambahkan ekstra indentasi pada baris lanjutan\n",
    "if (sebuah kondisi dan\n",
    "        kondisi yang lain):\n",
    "    lakukanSesuatu()\n",
    "```"
   ],
   "cell_type": "markdown",
   "metadata": {}
  },
  {
   "source": [
    "## Kurang/Siku Penutup"
   ],
   "cell_type": "markdown",
   "metadata": {}
  },
  {
   "cell_type": "code",
   "execution_count": null,
   "metadata": {},
   "outputs": [],
   "source": [
    "my_list = [\n",
    "    1, 2, 3,\n",
    "    4, 5, 6,\n",
    "    ]\n",
    " \n",
    "result = some_function_that_takes_arguments(\n",
    "    'a', 'b', 'c',\n",
    "    'd', 'e', 'f',\n",
    "    )"
   ]
  },
  {
   "cell_type": "code",
   "execution_count": null,
   "metadata": {},
   "outputs": [],
   "source": [
    "my_list = [\n",
    "    1, 2, 3,\n",
    "    4, 5, 6,\n",
    "]\n",
    " \n",
    "result = some_function_that_takes_arguments(\n",
    "    'a', 'b', 'c',\n",
    "    'd', 'e', 'f',\n",
    ")"
   ]
  },
  {
   "cell_type": "code",
   "execution_count": null,
   "metadata": {},
   "outputs": [],
   "source": [
    "with open('/path/to/some/file/you/want/to/read') as file_1, \\\n",
    "     open('/path/to/some/file/being/written', 'w') as file_2:\n",
    "    file_2.write(file_1.read())"
   ]
  }
 ]
}