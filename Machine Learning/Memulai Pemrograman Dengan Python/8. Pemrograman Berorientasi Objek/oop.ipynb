{
 "metadata": {
  "language_info": {
   "codemirror_mode": {
    "name": "ipython",
    "version": 3
   },
   "file_extension": ".py",
   "mimetype": "text/x-python",
   "name": "python",
   "nbconvert_exporter": "python",
   "pygments_lexer": "ipython3",
   "version": "3.9.4"
  },
  "orig_nbformat": 2,
  "kernelspec": {
   "name": "python394jvsc74a57bd0b839018028d7c5166b93bdc4222a30f5462b9cb20ffe1b3af6c70f0ea8ead087",
   "display_name": "Python 3.9.4 64-bit"
  }
 },
 "nbformat": 4,
 "nbformat_minor": 2,
 "cells": [
  {
   "source": [
    "# Pengenalan Object Oriented Programming (OOP) dengan Python - Class, Object, dan Method"
   ],
   "cell_type": "markdown",
   "metadata": {}
  },
  {
   "source": [
    "## Class"
   ],
   "cell_type": "markdown",
   "metadata": {}
  },
  {
   "cell_type": "code",
   "execution_count": null,
   "metadata": {},
   "outputs": [],
   "source": [
    "class NamaKelas:\n",
    "    pass # gantikan dengan pernyataan-pernyataan, misal: atribut atau metode"
   ]
  },
  {
   "cell_type": "code",
   "execution_count": 2,
   "metadata": {},
   "outputs": [],
   "source": [
    "class Kalkulator:\n",
    "    '''contoh kelas kalkulator sederhana'''\n",
    "    i = 12345\n",
    "\n",
    "    def f(self):\n",
    "        return 'hello world'"
   ]
  },
  {
   "cell_type": "code",
   "execution_count": 3,
   "metadata": {},
   "outputs": [],
   "source": [
    "Kalkulator.i = 1024 # maka nilai atribut i dalam Kalkulator berubah dari 12345 menjadi 1024"
   ]
  },
  {
   "source": [
    "## Object (An Instance of a Class)"
   ],
   "cell_type": "markdown",
   "metadata": {}
  },
  {
   "cell_type": "code",
   "execution_count": 4,
   "metadata": {},
   "outputs": [],
   "source": [
    "k = Kalkulator() # membuat instance dari kelas jadi objek, kemudian disimpan pada variabel k"
   ]
  },
  {
   "cell_type": "code",
   "execution_count": 5,
   "metadata": {},
   "outputs": [
    {
     "output_type": "stream",
     "name": "stdout",
     "text": [
      "hello world\n"
     ]
    }
   ],
   "source": [
    "print(k.f())"
   ]
  },
  {
   "source": [
    "## Class' Constructor"
   ],
   "cell_type": "markdown",
   "metadata": {}
  },
  {
   "cell_type": "code",
   "execution_count": 6,
   "metadata": {},
   "outputs": [],
   "source": [
    "class Kalkulator:\n",
    "    \"\"\"contoh kelas kalkulator sederhana\"\"\"\n",
    "\n",
    "    def __init__(self):\n",
    "        self.i = 12345\n",
    "\n",
    "    def f(self):\n",
    "        return 'hello world'"
   ]
  },
  {
   "cell_type": "code",
   "execution_count": null,
   "metadata": {},
   "outputs": [],
   "source": [
    "class KeranjangBelanja:\n",
    "    \"\"\"contoh tidak baik dilakukan dengan definisi variabel terbagi\"\"\"\n",
    "    isi = [] # menggunakan list di sini akan terbagi untuk semua instance. JANGAN DILAKUKAN"
   ]
  },
  {
   "cell_type": "code",
   "execution_count": null,
   "metadata": {},
   "outputs": [],
   "source": [
    "k = Kalkulator() # membuat instance dari kelas jadi objek, kemudian disimpan pada variabel k"
   ]
  },
  {
   "cell_type": "code",
   "execution_count": 7,
   "metadata": {},
   "outputs": [],
   "source": [
    "class Kalkulator:\n",
    "    \"\"\"contoh kelas kalkulator sederhana\"\"\"\n",
    " \n",
    "    def __init__(self, i=12345):\n",
    "        self.i = i  # i adalah variabel pada constructor, self.i adalah variabel dari class\n",
    " \n",
    "    def f(self):\n",
    "        return 'hello world'"
   ]
  },
  {
   "cell_type": "code",
   "execution_count": 8,
   "metadata": {},
   "outputs": [
    {
     "output_type": "stream",
     "name": "stdout",
     "text": [
      "1024\n"
     ]
    }
   ],
   "source": [
    "k = Kalkulator(i=1024)  # melakukan instantiation sekaligus mengisi atribut i jadi 1024\n",
    "print(k.i)              # mencetak atribut i dari objek k dengan keluaran nilai 1024"
   ]
  },
  {
   "source": [
    "## Method"
   ],
   "cell_type": "markdown",
   "metadata": {}
  },
  {
   "cell_type": "code",
   "execution_count": null,
   "metadata": {},
   "outputs": [],
   "source": [
    "k.f()\n",
    "\n",
    "# ekuivalen dengan\n",
    "\n",
    "Kalkulator.f(k)"
   ]
  },
  {
   "cell_type": "code",
   "execution_count": 9,
   "metadata": {},
   "outputs": [],
   "source": [
    "class Kalkulator:\n",
    "    \"\"\"contoh kelas kalkulator sederhana\"\"\"\n",
    " \n",
    "    def f(self):\n",
    "        return 'hello world'\n",
    " \n",
    "    @classmethod\n",
    "    def tambah_angka(cls, angka1, angka2):\n",
    "        return '{} + {} = {}'.format(angka1, angka2, angka1 + angka2)"
   ]
  },
  {
   "cell_type": "code",
   "execution_count": 10,
   "metadata": {},
   "outputs": [
    {
     "output_type": "execute_result",
     "data": {
      "text/plain": [
       "'1 + 2 = 3'"
      ]
     },
     "metadata": {},
     "execution_count": 10
    }
   ],
   "source": [
    "Kalkulator.tambah_angka(1, 2)  # tanpa perlu memberikan masukan untuk argumen cls"
   ]
  },
  {
   "cell_type": "code",
   "execution_count": 11,
   "metadata": {},
   "outputs": [
    {
     "output_type": "stream",
     "name": "stdout",
     "text": [
      "1 + 2 = 3\n"
     ]
    }
   ],
   "source": [
    "k = Kalkulator()\n",
    "print(k.tambah_angka(1, 2))"
   ]
  },
  {
   "cell_type": "code",
   "execution_count": 12,
   "metadata": {},
   "outputs": [],
   "source": [
    "class Kalkulator:\n",
    "    \"\"\"contoh kelas kalkulator sederhana\"\"\"\n",
    " \n",
    "    def f(self):\n",
    "        return 'hello world'\n",
    " \n",
    "    @staticmethod\n",
    "    def kali_angka(angka1, angka2):\n",
    "        return '{} x {} = {}'.format(angka1, angka2, angka1 * angka2)"
   ]
  },
  {
   "cell_type": "code",
   "execution_count": 13,
   "metadata": {},
   "outputs": [
    {
     "output_type": "stream",
     "name": "stdout",
     "text": [
      "2 x 3 = 6\n"
     ]
    }
   ],
   "source": [
    "a = Kalkulator.kali_angka(2, 3)\n",
    "print(a)"
   ]
  },
  {
   "cell_type": "code",
   "execution_count": 14,
   "metadata": {},
   "outputs": [
    {
     "output_type": "stream",
     "name": "stdout",
     "text": [
      "2 x 3 = 6\n"
     ]
    }
   ],
   "source": [
    "k = Kalkulator()\n",
    "a = k.kali_angka(2, 3)\n",
    "print(a)"
   ]
  },
  {
   "cell_type": "code",
   "execution_count": null,
   "metadata": {},
   "outputs": [],
   "source": []
  }
 ]
}