{
 "metadata": {
  "language_info": {
   "codemirror_mode": {
    "name": "ipython",
    "version": 3
   },
   "file_extension": ".py",
   "mimetype": "text/x-python",
   "name": "python",
   "nbconvert_exporter": "python",
   "pygments_lexer": "ipython3",
   "version": "3.9.4"
  },
  "orig_nbformat": 2,
  "kernelspec": {
   "name": "python394jvsc74a57bd0b839018028d7c5166b93bdc4222a30f5462b9cb20ffe1b3af6c70f0ea8ead087",
   "display_name": "Python 3.9.4 64-bit"
  }
 },
 "nbformat": 4,
 "nbformat_minor": 2,
 "cells": [
  {
   "source": [
    "# Pengenalan Object Oriented Programming (OOP) dengan Python - Inheritance"
   ],
   "cell_type": "markdown",
   "metadata": {}
  },
  {
   "source": [
    "## Mekanisme Pewarisan (Inheritance)"
   ],
   "cell_type": "markdown",
   "metadata": {}
  },
  {
   "cell_type": "code",
   "execution_count": 1,
   "metadata": {},
   "outputs": [],
   "source": [
    "class Kalkulator:\n",
    "    \"\"\"contoh kelas kalkulator sederhana. anggap kelas ini tidak boleh diubah!\"\"\"\n",
    " \n",
    "    def __init__(self, nilai=0):\n",
    "        self.nilai = nilai\n",
    " \n",
    "    def tambah_angka(self, angka1, angka2):\n",
    "        self.nilai = angka1 + angka2\n",
    "        if self.nilai > 9:  # kalkulator sederhana hanya memroses sampai 9\n",
    "            print('kalkulator sederhana melebihi batas angka: {}'.format(self.nilai))\n",
    "        return self.nilai"
   ]
  },
  {
   "cell_type": "code",
   "execution_count": 2,
   "metadata": {},
   "outputs": [],
   "source": [
    "class KalkulatorKali(Kalkulator):\n",
    "    \"\"\"contoh mewarisi kelas kalkulator sederhana\"\"\"\n",
    " \n",
    "    def kali_angka(self, angka1, angka2):\n",
    "        self.nilai = angka1 * angka2\n",
    "        return self.nilai"
   ]
  },
  {
   "cell_type": "code",
   "execution_count": 3,
   "metadata": {},
   "outputs": [
    {
     "output_type": "stream",
     "name": "stdout",
     "text": [
      "6\nkalkulator sederhana melebihi batas angka: 11\n11\n"
     ]
    }
   ],
   "source": [
    "kk = KalkulatorKali()\n",
    "a = kk.kali_angka(2, 3)  # sesuai dengan definisi class memiliki fitur kali_angka\n",
    "print(a)\n",
    " \n",
    "b = kk.tambah_angka(5, 6)  # memiliki fitur tambah_angka karena mewarisi dari Kalkulator\n",
    "print(b)"
   ]
  },
  {
   "source": [
    "## Menimpa (Override) Metode dengan Nama yang Sama Dengan Kelas Dasar"
   ],
   "cell_type": "markdown",
   "metadata": {}
  },
  {
   "cell_type": "code",
   "execution_count": 4,
   "metadata": {},
   "outputs": [],
   "source": [
    "class KalkulatorKali(Kalkulator):\n",
    "    \"\"\"contoh mewarisi kelas kalkulator sederhana\"\"\"\n",
    " \n",
    "    def kali_angka(self, angka1, angka2):\n",
    "        self.nilai = angka1 * angka2\n",
    "        return self.nilai\n",
    " \n",
    "    def tambah_angka(self, angka1, angka2):\n",
    "        self.nilai = angka1 + angka2\n",
    "        return self.nilai"
   ]
  },
  {
   "cell_type": "code",
   "execution_count": 5,
   "metadata": {},
   "outputs": [
    {
     "output_type": "stream",
     "name": "stdout",
     "text": [
      "11\n"
     ]
    }
   ],
   "source": [
    "kk = KalkulatorKali()\n",
    " \n",
    "b = kk.tambah_angka(5, 6)  # fitur tambah_angka yang dipanggil milik KalkulatorKali\n",
    "print(b)"
   ]
  },
  {
   "source": [
    "## Pemanggilan Metode Kelas Dasar dari Kelas Turunan dengan Sintaksis Super"
   ],
   "cell_type": "markdown",
   "metadata": {}
  },
  {
   "cell_type": "code",
   "execution_count": 6,
   "metadata": {},
   "outputs": [],
   "source": [
    "class KalkulatorTambah(Kalkulator):\n",
    "    \"\"\"contoh mewarisi kelas kalkulator sederhana\"\"\"\n",
    " \n",
    "    def tambah_angka(self, angka1, angka2):\n",
    "        if angka1 + angka2 <= 9:  # fitur ini sudah oke di kelas dasar, gunakan yang ada saja\n",
    "            super().tambah_angka(angka1, angka2)  # panggil fungsi dari Kalkulator lalu isi nilai\n",
    "        else:  # ini adalah fitur baru yang ingin diperbaiki dari keterbatasan kelas dasar\n",
    "            self.nilai = angka1 + angka2\n",
    "        return self.nilai"
   ]
  },
  {
   "source": [
    "## Variabel Privat di Python\n",
    "\n",
    "Terkait variabel privat tersebut, di Python ada konvensi dimana penggunaan nama yang diawali dengan garis bawah (underscore), baik itu fungsi, metode, maupun anggota data, akan dianggap sebagai non-publik."
   ],
   "cell_type": "markdown",
   "metadata": {}
  },
  {
   "source": [
    "## Pernak-Pernik Terkait Struktur Data"
   ],
   "cell_type": "markdown",
   "metadata": {}
  },
  {
   "cell_type": "code",
   "execution_count": 7,
   "metadata": {},
   "outputs": [],
   "source": [
    "class Pegawai:\n",
    "    pass  # definisi class kosong\n",
    " \n",
    "don = Pegawai()  # membuat Pegawai baru menjadi objek bernama don\n",
    " \n",
    "# tambahkan item data pada objek sebagai record\n",
    "don.nama = 'Don Doo'\n",
    "don.bagian = 'IT'\n",
    "don.gaji = 999"
   ]
  },
  {
   "cell_type": "code",
   "execution_count": null,
   "metadata": {},
   "outputs": [],
   "source": []
  }
 ]
}