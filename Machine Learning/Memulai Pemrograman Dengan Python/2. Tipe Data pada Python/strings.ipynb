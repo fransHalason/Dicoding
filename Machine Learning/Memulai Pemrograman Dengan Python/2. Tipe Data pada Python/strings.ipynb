{
 "metadata": {
  "language_info": {
   "codemirror_mode": {
    "name": "ipython",
    "version": 3
   },
   "file_extension": ".py",
   "mimetype": "text/x-python",
   "name": "python",
   "nbconvert_exporter": "python",
   "pygments_lexer": "ipython3",
   "version": "3.9.4"
  },
  "orig_nbformat": 2,
  "kernelspec": {
   "name": "python394jvsc74a57bd0b839018028d7c5166b93bdc4222a30f5462b9cb20ffe1b3af6c70f0ea8ead087",
   "display_name": "Python 3.9.4 64-bit"
  }
 },
 "nbformat": 4,
 "nbformat_minor": 2,
 "cells": [
  {
   "cell_type": "code",
   "execution_count": 17,
   "metadata": {},
   "outputs": [
    {
     "output_type": "stream",
     "name": "stdout",
     "text": [
      "Ini adalah string baris tunggal \n\nvariable s bertipe <class 'str'>\n"
     ]
    }
   ],
   "source": [
    "s = \"Ini adalah string baris tunggal\"\n",
    "print(s,\"\\n\"\"\\n\" \"variable s \" \"bertipe\", type(s))"
   ]
  },
  {
   "cell_type": "code",
   "execution_count": 16,
   "metadata": {},
   "outputs": [
    {
     "output_type": "stream",
     "name": "stdout",
     "text": [
      "Ini adalah string\nyang memiliki baris pertama\ndan selanjutnya baris kedua \n\nvariable str bertipe <class 'str'>\n"
     ]
    }
   ],
   "source": [
    "str = '''Ini adalah string\n",
    "yang memiliki baris pertama\n",
    "dan selanjutnya baris kedua'''\n",
    "print(str,\"\\n\"\"\\n\" \"variable str \" \"bertipe\", type(str))"
   ]
  },
  {
   "cell_type": "code",
   "execution_count": null,
   "metadata": {},
   "outputs": [],
   "source": []
  }
 ]
}