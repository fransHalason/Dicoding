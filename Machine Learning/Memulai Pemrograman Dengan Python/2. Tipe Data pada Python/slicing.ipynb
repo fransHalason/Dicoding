{
 "metadata": {
  "language_info": {
   "codemirror_mode": {
    "name": "ipython",
    "version": 3
   },
   "file_extension": ".py",
   "mimetype": "text/x-python",
   "name": "python",
   "nbconvert_exporter": "python",
   "pygments_lexer": "ipython3",
   "version": "3.9.4"
  },
  "orig_nbformat": 2,
  "kernelspec": {
   "name": "python394jvsc74a57bd0b839018028d7c5166b93bdc4222a30f5462b9cb20ffe1b3af6c70f0ea8ead087",
   "display_name": "Python 3.9.4 64-bit"
  }
 },
 "nbformat": 4,
 "nbformat_minor": 2,
 "cells": [
  {
   "cell_type": "code",
   "execution_count": 10,
   "metadata": {},
   "outputs": [
    {
     "output_type": "stream",
     "name": "stdout",
     "text": [
      "o\nWorld\nHalo Dunia!\n"
     ]
    }
   ],
   "source": [
    "s = \"Hello World!\"\n",
    "print(s[4])         #ambil karakter kelima dari string s\n",
    "print(s[6:11])      #ambil karakter ketujuh hingga sebelas dari string s\n",
    "# s[5]=\"d\"            #ubah karakter keenam dari string s menjadi \"d\", seharusnya gagal karena immutable\n",
    "s = \"Halo Dunia!\"   #ubah isi string s menjadi \"Halo Dunia!\", seharusnya berhasil karena mutable\n",
    "print(s)"
   ]
  },
  {
   "cell_type": "code",
   "execution_count": null,
   "metadata": {},
   "outputs": [],
   "source": []
  }
 ]
}