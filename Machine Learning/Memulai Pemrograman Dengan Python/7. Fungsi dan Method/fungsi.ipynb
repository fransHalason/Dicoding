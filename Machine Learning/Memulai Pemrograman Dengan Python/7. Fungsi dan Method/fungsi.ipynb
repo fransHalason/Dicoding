{
 "metadata": {
  "language_info": {
   "codemirror_mode": {
    "name": "ipython",
    "version": 3
   },
   "file_extension": ".py",
   "mimetype": "text/x-python",
   "name": "python",
   "nbconvert_exporter": "python",
   "pygments_lexer": "ipython3",
   "version": "3.9.4"
  },
  "orig_nbformat": 2,
  "kernelspec": {
   "name": "python394jvsc74a57bd0b839018028d7c5166b93bdc4222a30f5462b9cb20ffe1b3af6c70f0ea8ead087",
   "display_name": "Python 3.9.4 64-bit"
  }
 },
 "nbformat": 4,
 "nbformat_minor": 2,
 "cells": [
  {
   "source": [
    "# Fungsi - Definisi, Memanggil, dan Mengembalikan Fungsi"
   ],
   "cell_type": "markdown",
   "metadata": {}
  },
  {
   "source": [
    "## Mendefinisikan Fungsi"
   ],
   "cell_type": "markdown",
   "metadata": {}
  },
  {
   "cell_type": "code",
   "execution_count": null,
   "metadata": {},
   "outputs": [],
   "source": [
    "def nama_fungsi(parameter)"
   ]
  },
  {
   "cell_type": "code",
   "execution_count": null,
   "metadata": {},
   "outputs": [],
   "source": [
    "def nama_fungsi(parameter):\n",
    "    \"dokumentasi fungsi\"\n",
    "    statement atau kode fungsi\n",
    "    return [expression]"
   ]
  },
  {
   "cell_type": "code",
   "execution_count": null,
   "metadata": {},
   "outputs": [],
   "source": [
    "def cetak(param1):\n",
    "    print(param1)\n",
    "    return"
   ]
  },
  {
   "cell_type": "code",
   "execution_count": null,
   "metadata": {},
   "outputs": [],
   "source": [
    "def cetak(param1):\n",
    "    print(param1)"
   ]
  },
  {
   "source": [
    "## Memanggil Fungsi"
   ],
   "cell_type": "markdown",
   "metadata": {}
  },
  {
   "cell_type": "code",
   "execution_count": null,
   "metadata": {},
   "outputs": [],
   "source": [
    "def cetak(param1):\n",
    "    print(param1)\n",
    "    return\n",
    "\n",
    "# panggil\n",
    "cetak(\"Panggilan Pertama\")\n",
    "cetak(\"Panggilan Kedua\")"
   ]
  },
  {
   "source": [
    "## Return"
   ],
   "cell_type": "markdown",
   "metadata": {}
  },
  {
   "cell_type": "code",
   "execution_count": null,
   "metadata": {},
   "outputs": [],
   "source": [
    "return None"
   ]
  },
  {
   "cell_type": "code",
   "execution_count": null,
   "metadata": {},
   "outputs": [],
   "source": [
    "def kali(angka1, angka2):\n",
    "    # Kalikan kedua parameter\n",
    "    hasil = angka1 * angka2\n",
    "    print('Dicetak dari dalam fungsi: {}'.format(hasil))\n",
    "    return hasil\n",
    "\n",
    "# panggil fungsi kali\n",
    "keluaran = kali(10, 20);\n",
    "print('Dicetak sebagai kembalian: {}'.format(keluaran))"
   ]
  },
  {
   "cell_type": "code",
   "execution_count": null,
   "metadata": {},
   "outputs": [],
   "source": [
    "def kuadrat(x):\n",
    "    return x*x\n",
    "\n",
    "a = 10\n",
    "k = kuadrat(a)\n",
    "print('nilai kuadrat dari {} adalah {}'.format(a, k))"
   ]
  },
  {
   "source": [
    "## Pass by Reference VS Value"
   ],
   "cell_type": "markdown",
   "metadata": {}
  },
  {
   "cell_type": "code",
   "execution_count": null,
   "metadata": {},
   "outputs": [],
   "source": [
    "def ubah(list_saya):\n",
    "    list_saya.append([1, 2, 3, 4])\n",
    "    print('Nilai di dalam fungsi: {}'.format(list_saya))\n",
    "\n",
    "# panggil fungsi ubah\n",
    "list_saya = [10, 20, 30]\n",
    "ubah(list_saya)\n",
    "print('Nilai di luar fungsi: {}'.format(list_saya))"
   ]
  },
  {
   "cell_type": "code",
   "execution_count": null,
   "metadata": {},
   "outputs": [],
   "source": [
    "def ubah(list_saya):\n",
    "    \"deklarasi variabel list_saya berikut hanya dikenali (berlaku) di dalam fungsi ubah\"\n",
    "    list_saya = [1, 2, 3, 4]\n",
    "    print('Nilai di dalam fungsi: {}'.format(list_saya))\n",
    "\n",
    "# panggil fungsi ubah\n",
    "list_saya = [10, 20, 30]\n",
    "ubah(list_saya)\n",
    "print('Nilai di luar fungsi: {}'.format(list_saya))"
   ]
  },
  {
   "source": [
    "## Argumen dan Parameter Fungsi"
   ],
   "cell_type": "markdown",
   "metadata": {}
  },
  {
   "cell_type": "code",
   "execution_count": null,
   "metadata": {},
   "outputs": [],
   "source": [
    "# parameter\n",
    "def fungsi_saya(a, b, c):\n",
    "    # lakukan sesuatu dengan abc"
   ]
  },
  {
   "cell_type": "code",
   "execution_count": null,
   "metadata": {},
   "outputs": [],
   "source": [
    "# argumen\n",
    "def fungsi_saya(1, b=14, c='Dicoding')"
   ]
  },
  {
   "source": [
    "# Fungsi - Argumen dan Parameter"
   ],
   "cell_type": "markdown",
   "metadata": {}
  },
  {
   "source": [
    "## Argumen Yang Dapat Dikirimkan Pada Fungsi"
   ],
   "cell_type": "markdown",
   "metadata": {}
  },
  {
   "cell_type": "code",
   "execution_count": null,
   "metadata": {},
   "outputs": [],
   "source": [
    "# Keyword Argument\n",
    "daftar(tanggal=1, bulan='Januari', tahun=2020)\n",
    "daftar(**{'tanggal': 11, 'bulan': 'Januari', 'tahun'=2020})"
   ]
  },
  {
   "cell_type": "code",
   "execution_count": null,
   "metadata": {},
   "outputs": [],
   "source": [
    "# Positional Argument\n",
    "daftar(1,'Januari',2020)\n",
    "daftar(*(1,'Januari',2020))"
   ]
  },
  {
   "source": [
    "## Susunan/Urutan Parameter Fungsi"
   ],
   "cell_type": "markdown",
   "metadata": {}
  },
  {
   "cell_type": "code",
   "execution_count": null,
   "metadata": {},
   "outputs": [],
   "source": [
    "# positional-or-keyword\n",
    "def kali(nilai1, nilai2=None, nilai3): ..."
   ]
  },
  {
   "cell_type": "code",
   "execution_count": null,
   "metadata": {},
   "outputs": [],
   "source": [
    "# positional-only\n",
    "def (nilai1, nilai2, /, nilai3): ..."
   ]
  },
  {
   "source": [
    "# keyword-only\n",
    "def func(arg, *, kw_only1, kw_only2): ..."
   ],
   "cell_type": "code",
   "metadata": {},
   "execution_count": null,
   "outputs": []
  },
  {
   "cell_type": "code",
   "execution_count": null,
   "metadata": {},
   "outputs": [],
   "source": [
    "def func(*arg, **kwargs): ..."
   ]
  },
  {
   "cell_type": "code",
   "execution_count": 11,
   "metadata": {},
   "outputs": [
    {
     "output_type": "stream",
     "name": "stdout",
     "text": [
      "argumen posisi 1\nargumen posisi 2\nargumen posisi 3\nargumen kata kunci i:7\nargumen kata kunci j:8\nargumen kata kunci k:9\nargumen posisi 1\nargumen posisi 2\nargumen kata kunci j:8\nargumen kata kunci k:9\nargumen posisi 2\nargumen posisi 3\nargumen kata kunci i:7\nargumen kata kunci j:8\n"
     ]
    }
   ],
   "source": [
    "def printinfo(*args, **kwargs):\n",
    "    for a in args:\n",
    "        print('argumen posisi {}'.format(a))\n",
    "    for key, value in kwargs.items():\n",
    "        print('argumen kata kunci {}:{}'.format(key, value))\n",
    " \n",
    " \n",
    "# Panggil printinfo\n",
    "printinfo()\n",
    "printinfo(1, 2, 3)\n",
    "printinfo(i=7, j=8, k=9)\n",
    "printinfo(1, 2, j=8, k=9)\n",
    "printinfo(*(2, 3), **{'i':7, 'j':8})"
   ]
  },
  {
   "source": [
    "## Fungsi Anomin"
   ],
   "cell_type": "markdown",
   "metadata": {}
  },
  {
   "cell_type": "code",
   "execution_count": null,
   "metadata": {},
   "outputs": [],
   "source": [
    "lambda [arg1 [arg2,.....argn]]:expression"
   ]
  },
  {
   "cell_type": "code",
   "execution_count": 12,
   "metadata": {},
   "outputs": [
    {
     "output_type": "stream",
     "name": "stdout",
     "text": [
      "Hasil:  231\nHasil:  4\n"
     ]
    }
   ],
   "source": [
    "kali = lambda nilai1, nilai2: nilai1 * nilai2;\n",
    "print(\"Hasil: \", kali(11,21))\n",
    "print(\"Hasil: \", kali(2,2))"
   ]
  },
  {
   "cell_type": "code",
   "execution_count": 1,
   "metadata": {},
   "outputs": [
    {
     "output_type": "stream",
     "name": "stdout",
     "text": [
      "Dicoding Indonesia\n"
     ]
    }
   ],
   "source": [
    "def cetak(param):\n",
    "    print(param)\n",
    "    return\n",
    " \n",
    "cetak(\"Dicoding Indonesia\")"
   ]
  },
  {
   "cell_type": "code",
   "execution_count": 6,
   "metadata": {},
   "outputs": [
    {
     "output_type": "error",
     "ename": "NameError",
     "evalue": "name 'age' is not defined",
     "traceback": [
      "\u001b[1;31m---------------------------------------------------------------------------\u001b[0m",
      "\u001b[1;31mNameError\u001b[0m                                 Traceback (most recent call last)",
      "\u001b[1;32m<ipython-input-6-3a40e5981868>\u001b[0m in \u001b[0;36m<module>\u001b[1;34m\u001b[0m\n\u001b[0;32m      2\u001b[0m    \u001b[0mprint\u001b[0m\u001b[1;33m(\u001b[0m\u001b[1;34m'Nama:'\u001b[0m\u001b[1;33m,\u001b[0m \u001b[0mname\u001b[0m \u001b[1;33m,\u001b[0m \u001b[1;34m'dan'\u001b[0m \u001b[1;34m' Umur:'\u001b[0m\u001b[1;33m,\u001b[0m\u001b[0mage\u001b[0m\u001b[1;33m)\u001b[0m\u001b[1;33m\u001b[0m\u001b[1;33m\u001b[0m\u001b[0m\n\u001b[0;32m      3\u001b[0m \u001b[1;33m\u001b[0m\u001b[0m\n\u001b[1;32m----> 4\u001b[1;33m \u001b[0mcetak_info\u001b[0m\u001b[1;33m(\u001b[0m\u001b[0mage\u001b[0m\u001b[1;33m)\u001b[0m\u001b[1;33m\u001b[0m\u001b[1;33m\u001b[0m\u001b[0m\n\u001b[0m",
      "\u001b[1;31mNameError\u001b[0m: name 'age' is not defined"
     ]
    }
   ],
   "source": [
    "def cetak_info(name = 'Dicoding', age=5):\n",
    "   print('Nama:', name , 'dan' ' Umur:',age)\n",
    " \n",
    "cetak_info(name, age)"
   ]
  },
  {
   "cell_type": "code",
   "execution_count": null,
   "metadata": {},
   "outputs": [],
   "source": []
  }
 ]
}