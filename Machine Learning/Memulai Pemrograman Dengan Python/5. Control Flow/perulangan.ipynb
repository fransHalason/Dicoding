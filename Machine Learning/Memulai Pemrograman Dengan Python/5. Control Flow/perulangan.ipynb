{
 "metadata": {
  "language_info": {
   "codemirror_mode": {
    "name": "ipython",
    "version": 3
   },
   "file_extension": ".py",
   "mimetype": "text/x-python",
   "name": "python",
   "nbconvert_exporter": "python",
   "pygments_lexer": "ipython3",
   "version": "3.9.4"
  },
  "orig_nbformat": 2,
  "kernelspec": {
   "name": "python394jvsc74a57bd0b839018028d7c5166b93bdc4222a30f5462b9cb20ffe1b3af6c70f0ea8ead087",
   "display_name": "Python 3.9.4 64-bit"
  }
 },
 "nbformat": 4,
 "nbformat_minor": 2,
 "cells": [
  {
   "source": [
    "# Perulangan"
   ],
   "cell_type": "markdown",
   "metadata": {}
  },
  {
   "source": [
    "## For"
   ],
   "cell_type": "markdown",
   "metadata": {}
  },
  {
   "cell_type": "code",
   "execution_count": null,
   "metadata": {},
   "outputs": [],
   "source": [
    "for huruf in 'Dicoding': # Contoh pertama\n",
    "    print('Huruf: {}'.format(huruf))"
   ]
  },
  {
   "cell_type": "code",
   "execution_count": null,
   "metadata": {},
   "outputs": [],
   "source": [
    "flowers = ['mawar','melati','anggrek']\n",
    "for flower in flowers: # Contoh kedua\n",
    "    print('Flower: {}'.format(flower))"
   ]
  },
  {
   "cell_type": "code",
   "execution_count": null,
   "metadata": {},
   "outputs": [],
   "source": [
    "flowers = ['mawar','melati','anggrek']\n",
    "for index in range(len(flowers)):\n",
    "    print('Flower: {}'.format(flowers[index]))"
   ]
  },
  {
   "source": [
    "## While"
   ],
   "cell_type": "markdown",
   "metadata": {}
  },
  {
   "cell_type": "code",
   "execution_count": null,
   "metadata": {},
   "outputs": [],
   "source": [
    "count = 0\n",
    "while (count < 7):\n",
    "    print('Hitungannya adalah: {}'.format(count))\n",
    "    count = count + 1"
   ]
  },
  {
   "cell_type": "code",
   "execution_count": null,
   "metadata": {},
   "outputs": [],
   "source": [
    "var = 1\n",
    "while var == 1: # This constructs an infinite loop\n",
    "    num = input('Masukkan angka: ')\n",
    "    print('Anda memasukkan angka: {}'.format(num))\n",
    "\n",
    "while True: # This constructs an infinite loop\n",
    "    num = input('Masukkan angka: ')\n",
    "    print('Anda memasukkan angka: {}'.format(num))"
   ]
  },
  {
   "cell_type": "code",
   "execution_count": null,
   "metadata": {},
   "outputs": [],
   "source": [
    "while (var1): do_something() # one line 'while' statement"
   ]
  },
  {
   "source": [
    "## Perulangan Bertingkat"
   ],
   "cell_type": "markdown",
   "metadata": {}
  },
  {
   "cell_type": "code",
   "execution_count": 1,
   "metadata": {},
   "outputs": [
    {
     "output_type": "stream",
     "name": "stdout",
     "text": [
      "******\n*****\n****\n***\n**\n*\n"
     ]
    }
   ],
   "source": [
    "for i in range(0, 6):\n",
    "    for j in range(0, 6 - i):\n",
    "        print('*', end='')\n",
    "    print()"
   ]
  },
  {
   "cell_type": "code",
   "execution_count": null,
   "metadata": {},
   "outputs": [],
   "source": []
  }
 ]
}