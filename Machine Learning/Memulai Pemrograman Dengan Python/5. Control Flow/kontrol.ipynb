{
 "metadata": {
  "language_info": {
   "codemirror_mode": {
    "name": "ipython",
    "version": 3
   },
   "file_extension": ".py",
   "mimetype": "text/x-python",
   "name": "python",
   "nbconvert_exporter": "python",
   "pygments_lexer": "ipython3",
   "version": "3.9.4"
  },
  "orig_nbformat": 2,
  "kernelspec": {
   "name": "python394jvsc74a57bd0b839018028d7c5166b93bdc4222a30f5462b9cb20ffe1b3af6c70f0ea8ead087",
   "display_name": "Python 3.9.4 64-bit"
  }
 },
 "nbformat": 4,
 "nbformat_minor": 2,
 "cells": [
  {
   "source": [
    "# Kontrol Perulangan"
   ],
   "cell_type": "markdown",
   "metadata": {}
  },
  {
   "source": [
    "## Break"
   ],
   "cell_type": "markdown",
   "metadata": {}
  },
  {
   "cell_type": "code",
   "execution_count": null,
   "metadata": {},
   "outputs": [],
   "source": [
    "for huruf in 'Dico ding':\n",
    "    if huruf == ' ':\n",
    "        break\n",
    "    print('Hurud saat ini: {}'.format(huruf))"
   ]
  },
  {
   "cell_type": "code",
   "execution_count": null,
   "metadata": {},
   "outputs": [],
   "source": [
    "for i in range (0,10):\n",
    "    for j in range (0,10):\n",
    "        if j>i:\n",
    "            print()\n",
    "            break\n",
    "        else:\n",
    "            print(\"*\",end=\"\")"
   ]
  },
  {
   "source": [
    "## Continue"
   ],
   "cell_type": "markdown",
   "metadata": {}
  },
  {
   "cell_type": "code",
   "execution_count": null,
   "metadata": {},
   "outputs": [],
   "source": [
    "for huruf in 'Dico ding':\n",
    "    if huruf == ' ':\n",
    "        continue\n",
    "    print('Huruf saat ini: {}'.format(huruf))"
   ]
  },
  {
   "cell_type": "code",
   "execution_count": null,
   "metadata": {},
   "outputs": [],
   "source": [
    "jumlahbaris = 10\n",
    "baris = 0\n",
    "bintang = 0\n",
    "while baris < jumlahbaris:\n",
    "    if (bintang) >= (baris+1):\n",
    "        print()\n",
    "        baris = baris+1\n",
    "        bintang=0\n",
    "        continue      ##saat masuk ke if, maka bagian print * diluar if tidak akan dijalankan, langsung ulang ke while\n",
    "    print(\"*\",end=\"\")\n",
    "    bintang= bintang+1"
   ]
  },
  {
   "source": [
    "## Else setelah For"
   ],
   "cell_type": "markdown",
   "metadata": {}
  },
  {
   "cell_type": "code",
   "execution_count": null,
   "metadata": {},
   "outputs": [],
   "source": [
    "for item in items:\n",
    "    if cari(item):\n",
    "        #ditemukan!\n",
    "        proses_item()\n",
    "        break\n",
    "else:\n",
    "    #Item tidak ditemukan\n",
    "    not_found_in_container()"
   ]
  },
  {
   "cell_type": "code",
   "execution_count": null,
   "metadata": {},
   "outputs": [],
   "source": [
    "if any(something_about(thing) for each thing in container):\n",
    "    do_something(that_thing)\n",
    "else:\n",
    "    no_such_thing()"
   ]
  },
  {
   "cell_type": "code",
   "execution_count": null,
   "metadata": {},
   "outputs": [],
   "source": [
    "for n in range(2, 10):\n",
    "    for x in range(2, n):\n",
    "        if n % x == 0:\n",
    "            print(n, 'equals', x, '*', n/x)\n",
    "            break"
   ]
  },
  {
   "cell_type": "code",
   "execution_count": null,
   "metadata": {},
   "outputs": [],
   "source": [
    "for n in range(2, 10):\n",
    "    for x in range(2, n):\n",
    "        if n % x == 0:\n",
    "            print( n, 'equals', x, '*', n/x)\n",
    "            break\n",
    "    else:\n",
    "        # loop fell through without finding a factor\n",
    "        print(n, ' adalah bilangan prima')"
   ]
  },
  {
   "source": [
    "## Else setelah While"
   ],
   "cell_type": "markdown",
   "metadata": {}
  },
  {
   "cell_type": "code",
   "execution_count": null,
   "metadata": {},
   "outputs": [],
   "source": [
    "n = 10\n",
    "while n > 0:\n",
    "    n = n - 1\n",
    "    if n == 7:\n",
    "        break\n",
    "    print(n)\n",
    "else:\n",
    "    print(\"Loop selesai\")"
   ]
  },
  {
   "cell_type": "code",
   "execution_count": null,
   "metadata": {},
   "outputs": [],
   "source": [
    "n = 10\n",
    "while n > 0:\n",
    "    n = n - 1\n",
    "    print(n)\n",
    "else:\n",
    "    print(\"Loop selesai\")"
   ]
  },
  {
   "source": [
    "## Pass"
   ],
   "cell_type": "markdown",
   "metadata": {}
  },
  {
   "cell_type": "code",
   "execution_count": null,
   "metadata": {},
   "outputs": [],
   "source": [
    "def sebuahfungsi():\n",
    "    pass"
   ]
  },
  {
   "cell_type": "code",
   "execution_count": null,
   "metadata": {},
   "outputs": [],
   "source": [
    "def sebuahfungsi():"
   ]
  },
  {
   "cell_type": "code",
   "execution_count": null,
   "metadata": {},
   "outputs": [],
   "source": [
    "var1=\"\"\n",
    "while(var1!=\"exit\"):\n",
    "    var1=input(\"Please enter an integer (type exit to exit): \")\n",
    "    print(int(var1))"
   ]
  },
  {
   "cell_type": "code",
   "execution_count": null,
   "metadata": {},
   "outputs": [],
   "source": [
    "import sys\n",
    "data=''\n",
    "while(data!='exit'):\n",
    "    try:\n",
    "        data=input('Please enter an integer (type exit to exit): ')\n",
    "        print('got integer: {}'.format(int(data)))\n",
    "    except:\n",
    "        if data == 'exit':\n",
    "            pass  # exit gracefully without prompt any error\n",
    "        else:\n",
    "            print('error: {}'.format(sys.exc_info()[0]))"
   ]
  },
  {
   "source": [
    "## List Comprehension (membuat list dengan inline loop dan if)"
   ],
   "cell_type": "markdown",
   "metadata": {}
  },
  {
   "cell_type": "code",
   "execution_count": 16,
   "metadata": {},
   "outputs": [
    {
     "output_type": "stream",
     "name": "stdout",
     "text": [
      "[1, 4, 9, 16]\n"
     ]
    }
   ],
   "source": [
    "#Cara 1\n",
    "angka = [1, 2, 3, 4]\n",
    "pangkat = []\n",
    "for n in angka:\n",
    "  pangkat.append(n**2)\n",
    "print(pangkat)"
   ]
  },
  {
   "cell_type": "code",
   "execution_count": 17,
   "metadata": {},
   "outputs": [
    {
     "output_type": "stream",
     "name": "stdout",
     "text": [
      "[1, 4, 9, 16]\n"
     ]
    }
   ],
   "source": [
    "#Cara 2 List Comprehension\n",
    "angka = [1, 2, 3, 4]\n",
    "pangkat = [n**2 for n in angka]\n",
    "print(pangkat)"
   ]
  },
  {
   "cell_type": "code",
   "execution_count": null,
   "metadata": {},
   "outputs": [],
   "source": [
    "new_list = [expression for_loop_one_or_more conditions]"
   ]
  },
  {
   "cell_type": "code",
   "execution_count": 18,
   "metadata": {},
   "outputs": [
    {
     "output_type": "stream",
     "name": "stdout",
     "text": [
      "['d', 'i']\n"
     ]
    }
   ],
   "source": [
    "#Contoh 3 menemukan item yang ada di kedua list\n",
    "list1 = ['d', 'i', 'c', 'o']\n",
    "list2 = ['d', 'i', 'n', 'g']\n",
    "duplikat = []\n",
    "for a in list1:\n",
    "  for b in list2:\n",
    "    if a == b:\n",
    "      duplikat.append(a)\n",
    "     \n",
    "print(duplikat)  # Output ['d','i']"
   ]
  },
  {
   "cell_type": "code",
   "execution_count": 19,
   "metadata": {},
   "outputs": [
    {
     "output_type": "stream",
     "name": "stdout",
     "text": [
      "['d', 'i']\n"
     ]
    }
   ],
   "source": [
    "#Contoh 4 Implementasi dengan list comprehension\n",
    "list1 = ['d', 'i', 'c', 'o']\n",
    "list2 = ['d', 'i', 'n', 'g']\n",
    "duplikat = [a for a in list1 for b in list2 if a == b]\n",
    "print(duplikat) # Output: ['d','i']"
   ]
  },
  {
   "cell_type": "code",
   "execution_count": 20,
   "metadata": {},
   "outputs": [
    {
     "output_type": "stream",
     "name": "stdout",
     "text": [
      "['hello', 'world', 'in', 'python']\n"
     ]
    }
   ],
   "source": [
    "# Contoh 5 kecilkan semua huruf\n",
    "list_a = [\"Hello\", \"World\", \"In\", \"Python\"]\n",
    "small_list_a = [_.lower() for _ in list_a]\n",
    "print(small_list_a)"
   ]
  },
  {
   "cell_type": "code",
   "execution_count": 21,
   "metadata": {},
   "outputs": [
    {
     "output_type": "stream",
     "name": "stdout",
     "text": [
      "[[1, 1], [9, 27], [25, 125], [49, 343], [81, 729]]\n"
     ]
    }
   ],
   "source": [
    "list_a = range(1, 10, 2)\n",
    "x = [[a**2, a**3] for a in list_a]\n",
    "print(x)"
   ]
  },
  {
   "cell_type": "code",
   "execution_count": null,
   "metadata": {},
   "outputs": [],
   "source": []
  }
 ]
}