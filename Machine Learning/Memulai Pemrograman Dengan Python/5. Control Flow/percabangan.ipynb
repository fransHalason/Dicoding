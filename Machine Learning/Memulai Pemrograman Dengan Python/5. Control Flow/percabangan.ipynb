{
 "metadata": {
  "language_info": {
   "codemirror_mode": {
    "name": "ipython",
    "version": 3
   },
   "file_extension": ".py",
   "mimetype": "text/x-python",
   "name": "python",
   "nbconvert_exporter": "python",
   "pygments_lexer": "ipython3",
   "version": "3.9.4"
  },
  "orig_nbformat": 2,
  "kernelspec": {
   "name": "python394jvsc74a57bd0b839018028d7c5166b93bdc4222a30f5462b9cb20ffe1b3af6c70f0ea8ead087",
   "display_name": "Python 3.9.4 64-bit"
  }
 },
 "nbformat": 4,
 "nbformat_minor": 2,
 "cells": [
  {
   "source": [
    "# Percabangan dan Ternary Operator"
   ],
   "cell_type": "markdown",
   "metadata": {}
  },
  {
   "source": [
    "## If"
   ],
   "cell_type": "markdown",
   "metadata": {}
  },
  {
   "cell_type": "code",
   "execution_count": null,
   "metadata": {},
   "outputs": [],
   "source": [
    "kelerengku = 10\n",
    "if kelerengku:\n",
    "    print(\"Cetak ini jika benar\")\n",
    "    print(kelerengku)"
   ]
  },
  {
   "cell_type": "code",
   "execution_count": null,
   "metadata": {},
   "outputs": [],
   "source": [
    "if kelerengku: hitung()"
   ]
  },
  {
   "source": [
    "## Else"
   ],
   "cell_type": "markdown",
   "metadata": {}
  },
  {
   "cell_type": "code",
   "execution_count": 3,
   "metadata": {},
   "outputs": [
    {
     "output_type": "stream",
     "name": "stdout",
     "text": [
      "Silakan, Anda boleh masuk\n"
     ]
    }
   ],
   "source": [
    "tinggi_badan = int(input(\"Masukkan tinggi badan Anda: \"))\n",
    "if tinggi_badan >= 160:\n",
    "    print(\"Silakan, Anda boleh masuk\")\n",
    "else:\n",
    "    print(\"Maaf, Anda belum boleh masuk\")"
   ]
  },
  {
   "cell_type": "code",
   "execution_count": 4,
   "metadata": {},
   "outputs": [
    {
     "output_type": "stream",
     "name": "stdout",
     "text": [
      "Bilangan 4 adalah genap\n"
     ]
    }
   ],
   "source": [
    "bilangan = 4\n",
    "if bilangan % 2 == 0:\n",
    "    print('Bilangan {} adalah genap'.format(bilangan))\n",
    "else:\n",
    "    print('Bilangan {} adalah ganjil'.format(bilangan))"
   ]
  },
  {
   "source": [
    "## Elif - Alternatif untuk Switch/Case dan IF bertingkat di python"
   ],
   "cell_type": "markdown",
   "metadata": {}
  },
  {
   "cell_type": "code",
   "execution_count": 8,
   "metadata": {},
   "outputs": [
    {
     "output_type": "stream",
     "name": "stdout",
     "text": [
      "Waduh, Anda mendapat nilai D\nYuk belajar lebih giat lagi!\n"
     ]
    }
   ],
   "source": [
    "nilai = int(input(\"Masukkan nilai tugas Anda: \"))\n",
    "if nilai>80:\n",
    "    print(\"Selamat! Anda mendapat nilai A\")\n",
    "    print(\"Pertahankan!\")\n",
    "elif nilai>70:\n",
    "    print(\"Hore! Anda mendapat nilai B\")\n",
    "    print(\"Tingkatkan!\")\n",
    "elif nilai>60:\n",
    "    print(\"Hmm.. Anda mendapat nilai C\")\n",
    "    print(\"Ayo semangat!\")\n",
    "else:\n",
    "    print(\"Waduh, Anda mendapat nilai D\")\n",
    "    print(\"Yuk belajar lebih giat lagi!\")"
   ]
  },
  {
   "cell_type": "code",
   "execution_count": 12,
   "metadata": {},
   "outputs": [
    {
     "output_type": "stream",
     "name": "stdout",
     "text": [
      "Bilangan -3 adalah negatif\n"
     ]
    }
   ],
   "source": [
    "bilangan = -3\n",
    "if bilangan > 0:\n",
    "    print('Bilangan {} adalah positif'.format(bilangan))\n",
    "elif bilangan < 0:\n",
    "    print('Bilangan {} adalah negatif'.format(bilangan))\n",
    "else:\n",
    "    print('Bilangan {} adalah nol'.format(bilangan))"
   ]
  },
  {
   "source": [
    "if\n",
    "\n",
    "```\n",
    "if(condition):\n",
    "    condition_if_true\n",
    "else:\n",
    "    condition_if_false\n",
    "```\n",
    "\n",
    "ternary\n",
    "\n",
    "```\n",
    "condition_if_true if condition else condition_if_false\n",
    "```"
   ],
   "cell_type": "markdown",
   "metadata": {}
  },
  {
   "cell_type": "code",
   "execution_count": 18,
   "metadata": {},
   "outputs": [
    {
     "output_type": "stream",
     "name": "stdout",
     "text": [
      "selamat\n"
     ]
    }
   ],
   "source": [
    "# if\n",
    "lulus = True\n",
    "if(lulus):\n",
    "    print(\"selamat\")\n",
    "else:\n",
    "     print(\"perbaiki\")"
   ]
  },
  {
   "cell_type": "code",
   "execution_count": 19,
   "metadata": {},
   "outputs": [
    {
     "output_type": "execute_result",
     "data": {
      "text/plain": [
       "'selamat'"
      ]
     },
     "metadata": {},
     "execution_count": 19
    }
   ],
   "source": [
    "lulus = True\n",
    "\"selamat\" if lulus else \"perbaiki\""
   ]
  },
  {
   "source": [
    "ternary operators melibatkan tuples\n",
    "\n",
    "if\n",
    "\n",
    "```\n",
    "if(condition):\n",
    "    condition_if_true\n",
    "else:\n",
    "    condition_if_false\n",
    "```\n",
    "\n",
    "ternary\n",
    "\n",
    "```\n",
    "(condition_if_false, condition_if_true)[condition]\n",
    "```\n",
    "\n",
    "0 = False; 1 = True"
   ],
   "cell_type": "markdown",
   "metadata": {}
  },
  {
   "cell_type": "code",
   "execution_count": 20,
   "metadata": {},
   "outputs": [
    {
     "output_type": "execute_result",
     "data": {
      "text/plain": [
       "'selamat'"
      ]
     },
     "metadata": {},
     "execution_count": 20
    }
   ],
   "source": [
    "lulus = True\n",
    "('perbaiki', 'selamat')[lulus]"
   ]
  },
  {
   "cell_type": "code",
   "execution_count": 21,
   "metadata": {},
   "outputs": [
    {
     "output_type": "stream",
     "name": "stdout",
     "text": [
      "2\n"
     ]
    }
   ],
   "source": [
    "kondisi = True\n",
    "print(2 if kondisi else 1/0)\n",
    "# output is 2"
   ]
  },
  {
   "cell_type": "code",
   "execution_count": 22,
   "metadata": {},
   "outputs": [
    {
     "output_type": "error",
     "ename": "ZeroDivisionError",
     "evalue": "division by zero",
     "traceback": [
      "\u001b[1;31m---------------------------------------------------------------------------\u001b[0m",
      "\u001b[1;31mZeroDivisionError\u001b[0m                         Traceback (most recent call last)",
      "\u001b[1;32m<ipython-input-22-75a85067ccb0>\u001b[0m in \u001b[0;36m<module>\u001b[1;34m\u001b[0m\n\u001b[1;32m----> 1\u001b[1;33m \u001b[0mprint\u001b[0m\u001b[1;33m(\u001b[0m\u001b[1;33m(\u001b[0m\u001b[1;36m1\u001b[0m\u001b[1;33m/\u001b[0m\u001b[1;36m0\u001b[0m\u001b[1;33m,\u001b[0m \u001b[1;36m2\u001b[0m\u001b[1;33m)\u001b[0m\u001b[1;33m[\u001b[0m\u001b[0mkondisi\u001b[0m\u001b[1;33m]\u001b[0m\u001b[1;33m)\u001b[0m\u001b[1;33m\u001b[0m\u001b[1;33m\u001b[0m\u001b[0m\n\u001b[0m",
      "\u001b[1;31mZeroDivisionError\u001b[0m: division by zero"
     ]
    }
   ],
   "source": [
    "print((1/0, 2)[kondisi])\n",
    "# error pembagian nol akan muncul"
   ]
  },
  {
   "source": [
    "## ShortHand Ternary"
   ],
   "cell_type": "markdown",
   "metadata": {}
  },
  {
   "cell_type": "code",
   "execution_count": 23,
   "metadata": {},
   "outputs": [
    {
     "output_type": "stream",
     "name": "stdout",
     "text": [
      "Tidak ada data\n"
     ]
    }
   ],
   "source": [
    "hasil = None\n",
    "pesan = hasil or \"Tidak ada data\"\n",
    "print(pesan)"
   ]
  },
  {
   "cell_type": "code",
   "execution_count": null,
   "metadata": {},
   "outputs": [],
   "source": []
  }
 ]
}