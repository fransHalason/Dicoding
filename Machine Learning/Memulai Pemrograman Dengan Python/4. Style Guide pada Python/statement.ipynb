{
 "metadata": {
  "language_info": {
   "codemirror_mode": {
    "name": "ipython",
    "version": 3
   },
   "file_extension": ".py",
   "mimetype": "text/x-python",
   "name": "python",
   "nbconvert_exporter": "python",
   "pygments_lexer": "ipython3",
   "version": "3.9.4"
  },
  "orig_nbformat": 2,
  "kernelspec": {
   "name": "python394jvsc74a57bd0b839018028d7c5166b93bdc4222a30f5462b9cb20ffe1b3af6c70f0ea8ead087",
   "display_name": "Python 3.9.4 64-bit"
  }
 },
 "nbformat": 4,
 "nbformat_minor": 2,
 "cells": [
  {
   "cell_type": "code",
   "execution_count": null,
   "metadata": {},
   "outputs": [],
   "source": [
    "# Python Basic Style Guide - Statement Gabungan, Trailing Commas, dan Anotasi Fungsi\n",
    "\n",
    "# statement gabungan\n",
    "# disarankan:\n",
    "\n",
    "if foo == 'blah':\n",
    "    do_blah_thing()\n",
    "do_one()\n",
    "do_two()\n",
    "do_three()"
   ]
  },
  {
   "cell_type": "code",
   "execution_count": null,
   "metadata": {},
   "outputs": [],
   "source": [
    "# tidak disarankan:\n",
    "if foo == 'blah': do_blah_thing()\n",
    "do_one(); do_two(); do_three()"
   ]
  },
  {
   "cell_type": "code",
   "execution_count": null,
   "metadata": {},
   "outputs": [],
   "source": [
    "# tidak disarankan:\n",
    "if foo == 'blah': do_blah_thing()\n",
    "for x in lst: total += x\n",
    "while t < 10: t = delay()"
   ]
  },
  {
   "cell_type": "code",
   "execution_count": null,
   "metadata": {},
   "outputs": [],
   "source": [
    "# sangat tidak disarankan:\n",
    "if foo == 'blah': do_blah_thing()\n",
    "else: do_non_blah_thing()\n",
    "try: something()\n",
    "finally: cleanup()\n",
    "do_one(); do_two(); do_three(long, argument,\n",
    "                             list, like, this)\n",
    "if foo == 'blah': one(); two(); three()"
   ]
  },
  {
   "cell_type": "code",
   "execution_count": null,
   "metadata": {},
   "outputs": [],
   "source": [
    "# penggunaan trailing commas\n",
    "# disarankan:\n",
    "FILES = ('setup.cfg',)"
   ]
  },
  {
   "cell_type": "code",
   "execution_count": null,
   "metadata": {},
   "outputs": [],
   "source": [
    "# tidak disarankan\n",
    "FILES = 'setup.cfg',"
   ]
  },
  {
   "cell_type": "code",
   "execution_count": null,
   "metadata": {},
   "outputs": [],
   "source": [
    "# disarankan\n",
    "FILES = [\n",
    "    'setup.cfg',\n",
    "    'tox.ini',\n",
    "]\n",
    "initialize(FILES,\n",
    "           error=True,\n",
    "           )"
   ]
  },
  {
   "cell_type": "code",
   "execution_count": null,
   "metadata": {},
   "outputs": [],
   "source": [
    "# tidak disarankan\n",
    "FILES = ['setup.cfg', 'tox.ini',]\n",
    "initialize(FILES,error=True,)"
   ]
  },
  {
   "cell_type": "code",
   "execution_count": null,
   "metadata": {},
   "outputs": [],
   "source": [
    "# Anotasi Fungsi\n",
    "Yes:\n",
    "def munge(input: AnyStr): ...\n",
    "def munge() -> AnyStr: ...\n",
    "\n",
    "No:\n",
    "def munge(input:AnyStr): ...\n",
    "def munge()->PosInt: ..."
   ]
  },
  {
   "cell_type": "code",
   "execution_count": null,
   "metadata": {},
   "outputs": [],
   "source": [
    "Yes:\n",
    "def complex(real, imag=0.0):\n",
    "    return magic(r=real, i=imag)\n",
    "\n",
    "No:\n",
    "def complex(real, imag = 0.0):\n",
    "    return magic(r = real, i = imag)"
   ]
  },
  {
   "cell_type": "code",
   "execution_count": null,
   "metadata": {},
   "outputs": [],
   "source": [
    "Yes:\n",
    "def munge(sep: AnyStr = None): ...\n",
    "def munge(input: AnyStr, sep: AnyStr = None, limit=1000): ...\n",
    "\n",
    "No:\n",
    "def munge(input: AnyStr=None): ...\n",
    "def munge(input: AnyStr, limit = 1000): ..."
   ]
  }
 ]
}