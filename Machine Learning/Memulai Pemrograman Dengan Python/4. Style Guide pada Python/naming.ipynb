{
 "metadata": {
  "language_info": {
   "codemirror_mode": {
    "name": "ipython",
    "version": 3
   },
   "file_extension": ".py",
   "mimetype": "text/x-python",
   "name": "python",
   "nbconvert_exporter": "python",
   "pygments_lexer": "ipython3",
   "version": 3
  },
  "orig_nbformat": 2
 },
 "nbformat": 4,
 "nbformat_minor": 2,
 "cells": [
  {
   "cell_type": "code",
   "execution_count": null,
   "metadata": {},
   "outputs": [],
   "source": [
    "# Python Basic Style Guide - Prinsip Penamaan pada Python\n",
    "\n",
    "# penamaan pada python\n",
    "# prinsip overriding\n",
    "cariJalan()\n",
    "\n",
    "aStarSearch()"
   ]
  },
  {
   "cell_type": "code",
   "execution_count": null,
   "metadata": {},
   "outputs": [],
   "source": [
    "# penulisan tipe variabel\n",
    "\n",
    "T, AnyStr, Num"
   ]
  },
  {
   "cell_type": "code",
   "execution_count": null,
   "metadata": {},
   "outputs": [],
   "source": [
    "from typing import TypeVar\n",
    "VT_co = TypeVar('VT_co', covariant=True)\n",
    "KT_contra = TypeVar('KT_contra', contravariant=True)"
   ]
  }
 ]
}