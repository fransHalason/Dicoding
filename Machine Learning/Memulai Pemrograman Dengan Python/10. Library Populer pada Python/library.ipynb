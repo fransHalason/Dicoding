{
 "metadata": {
  "language_info": {
   "codemirror_mode": {
    "name": "ipython",
    "version": 3
   },
   "file_extension": ".py",
   "mimetype": "text/x-python",
   "name": "python",
   "nbconvert_exporter": "python",
   "pygments_lexer": "ipython3",
   "version": "3.9.4"
  },
  "orig_nbformat": 2,
  "kernelspec": {
   "name": "python394jvsc74a57bd0b839018028d7c5166b93bdc4222a30f5462b9cb20ffe1b3af6c70f0ea8ead087",
   "display_name": "Python 3.9.4 64-bit"
  }
 },
 "nbformat": 4,
 "nbformat_minor": 2,
 "cells": [
  {
   "source": [
    "# Library Populer pada Python"
   ],
   "cell_type": "markdown",
   "metadata": {}
  },
  {
   "source": [
    "## String"
   ],
   "cell_type": "markdown",
   "metadata": {}
  },
  {
   "cell_type": "code",
   "execution_count": null,
   "metadata": {},
   "outputs": [],
   "source": [
    "testString = 'dicoding'\n",
    "testString.upper()"
   ]
  },
  {
   "cell_type": "code",
   "execution_count": null,
   "metadata": {},
   "outputs": [],
   "source": [
    "testString.lower()"
   ]
  },
  {
   "cell_type": "code",
   "execution_count": null,
   "metadata": {},
   "outputs": [],
   "source": [
    "testString.title()"
   ]
  },
  {
   "cell_type": "code",
   "execution_count": null,
   "metadata": {},
   "outputs": [],
   "source": [
    "testString.split('i')"
   ]
  },
  {
   "cell_type": "code",
   "execution_count": null,
   "metadata": {},
   "outputs": [],
   "source": [
    "testString.zfill(20)"
   ]
  },
  {
   "source": [
    "## OS"
   ],
   "cell_type": "markdown",
   "metadata": {}
  },
  {
   "cell_type": "code",
   "execution_count": null,
   "metadata": {},
   "outputs": [],
   "source": [
    "import os\n",
    "print(os.getcwd())"
   ]
  },
  {
   "source": [
    "## File Input/Output"
   ],
   "cell_type": "markdown",
   "metadata": {}
  },
  {
   "cell_type": "code",
   "execution_count": null,
   "metadata": {},
   "outputs": [],
   "source": [
    "string = input(\"Masukkan sesuatu: \")\n",
    "print(\"Input yang masuk adalah: \",  string)"
   ]
  },
  {
   "source": [
    "## Pickle"
   ],
   "cell_type": "markdown",
   "metadata": {}
  },
  {
   "cell_type": "code",
   "execution_count": null,
   "metadata": {},
   "outputs": [],
   "source": [
    "import pickle\n",
    "contoh_dictionary = {1:\"6\", 2:\"2\", 3:\"f\"}\n",
    "pickle_keluar = open(\"dict.pickle\",\"wb\")\n",
    "pickle.dump(contoh_dictionary, pickle_keluar)\n",
    "pickle_keluar.close()"
   ]
  },
  {
   "cell_type": "code",
   "execution_count": null,
   "metadata": {},
   "outputs": [],
   "source": [
    "pickle_masuk = open(\"dict.pickle\",\"rb\")\n",
    "contoh_dictionary = pickle.load(pickle_masuk)"
   ]
  },
  {
   "source": [
    "## JSON"
   ],
   "cell_type": "markdown",
   "metadata": {}
  },
  {
   "cell_type": "code",
   "execution_count": null,
   "metadata": {},
   "outputs": [],
   "source": [
    "import json\n",
    " \n",
    "# contoh JSON:\n",
    "x = {\n",
    "    \"nama\":\"Buchori\", \n",
    "    \"umur\":22, \n",
    "    \"Kota\":\"New York\"}\n",
    " \n",
    "# parse  x:\n",
    "y = json.loads(x)\n",
    " \n",
    "print(y[\"umur\"])"
   ]
  },
  {
   "source": [
    "## Scrapper"
   ],
   "cell_type": "markdown",
   "metadata": {}
  },
  {
   "source": [
    "### Urllib"
   ],
   "cell_type": "markdown",
   "metadata": {}
  },
  {
   "cell_type": "code",
   "execution_count": null,
   "metadata": {},
   "outputs": [],
   "source": [
    "url = \"http://python.org/\"\n",
    "page = urlopen(url)\n",
    "html = page.read().decode(\"utf-8\")\n",
    "start_index = html.find(\"<title>\") + len(\"<title>\")\n",
    "end_index = html.find(\"</title>\")\n",
    "title = html[start_index:end_index]\n",
    "title"
   ]
  },
  {
   "source": [
    "### Beautifulsoup"
   ],
   "cell_type": "markdown",
   "metadata": {}
  },
  {
   "cell_type": "code",
   "execution_count": null,
   "metadata": {},
   "outputs": [],
   "source": [
    "url = \"http://python.org/\"\n",
    "page = urlopen(url)\n",
    "html = page.read().decode(\"utf-8\")\n",
    "soup = BeautifulSoup(html, \"html.parser\")\n",
    "soup.title"
   ]
  },
  {
   "source": [
    "## Regex"
   ],
   "cell_type": "markdown",
   "metadata": {}
  },
  {
   "cell_type": "code",
   "execution_count": null,
   "metadata": {},
   "outputs": [],
   "source": [
    "import re\n",
    " \n",
    "pola= '^a...s$'\n",
    "string_tes= 'abyss'\n",
    "hasil= re.match(pola, string_tes)\n",
    " \n",
    "if hasil:\n",
    "    print(\"Pencarian berhasil.\")\n",
    "else:\n",
    "    print(\"Pencarian gagal.\") "
   ]
  },
  {
   "source": [
    "## Argument Parser"
   ],
   "cell_type": "markdown",
   "metadata": {}
  },
  {
   "cell_type": "code",
   "execution_count": null,
   "metadata": {},
   "outputs": [],
   "source": [
    "python panggildicoding.py -o"
   ]
  },
  {
   "cell_type": "code",
   "execution_count": null,
   "metadata": {},
   "outputs": [],
   "source": [
    "import argparse\n",
    " \n",
    "parser = argparse.ArgumentParser()\n",
    "parser.add_argument('-o', '--output', action='store_true', help=\"tampilkan output\")\n",
    "args = parser.parse_args()\n",
    " \n",
    "if args.output:\n",
    "    print(\"Halo, ini merupakan sebuah output dari panggildicoding.py\")"
   ]
  },
  {
   "cell_type": "code",
   "execution_count": null,
   "metadata": {},
   "outputs": [],
   "source": [
    "import argparse\n",
    " \n",
    "parser = argparse.ArgumentParser()\n",
    "parser.add_argument('-n', '--nama', required=True, help=\"Masukkan Nama Anda\")\n",
    "args = parser.parse_args()\n",
    " \n",
    "print(\"Terima kasih telah menggunakan panggildicoding.py, \"+args.nama)"
   ]
  },
  {
   "cell_type": "code",
   "execution_count": 1,
   "metadata": {},
   "outputs": [
    {
     "output_type": "stream",
     "name": "stdout",
     "text": [
      "[20, 25, 30]\n"
     ]
    }
   ],
   "source": [
    "x = [10,15,20,25,30]\n",
    "print(x[-3:])"
   ]
  },
  {
   "cell_type": "code",
   "execution_count": 2,
   "metadata": {},
   "outputs": [
    {
     "output_type": "execute_result",
     "data": {
      "text/plain": [
       "['cat', 'tiger', 'wolf']"
      ]
     },
     "metadata": {},
     "execution_count": 2
    }
   ],
   "source": [
    "animal = ['cat', 'rabbit', 'tiger', 'wolf']\n",
    "del animal[1]\n",
    "animal"
   ]
  },
  {
   "cell_type": "code",
   "execution_count": 3,
   "metadata": {},
   "outputs": [
    {
     "output_type": "stream",
     "name": "stdout",
     "text": [
      "[[1, 1], [9, 27], [25, 125], [49, 343], [81, 729]]\n"
     ]
    }
   ],
   "source": [
    "list_a = range(1,10,2)\n",
    "x = [ [a**2, a**3] for a in list_a]\n",
    "print(x)"
   ]
  },
  {
   "cell_type": "code",
   "execution_count": 4,
   "metadata": {},
   "outputs": [
    {
     "output_type": "stream",
     "name": "stdout",
     "text": [
      "a and B\n"
     ]
    }
   ],
   "source": [
    "a, b = 10, 11\n",
    "a, b\n",
    "print('%x and %X' % (a, b))"
   ]
  },
  {
   "cell_type": "code",
   "execution_count": 5,
   "metadata": {},
   "outputs": [
    {
     "output_type": "stream",
     "name": "stdout",
     "text": [
      "5.5 is of type <class 'float'>\n"
     ]
    }
   ],
   "source": [
    "a = 5.5\n",
    "print(a, \"is of type\", type(a))"
   ]
  },
  {
   "cell_type": "code",
   "execution_count": null,
   "metadata": {},
   "outputs": [],
   "source": []
  }
 ]
}