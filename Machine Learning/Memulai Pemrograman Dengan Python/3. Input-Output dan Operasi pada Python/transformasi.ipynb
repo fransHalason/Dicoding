{
 "metadata": {
  "language_info": {
   "codemirror_mode": {
    "name": "ipython",
    "version": 3
   },
   "file_extension": ".py",
   "mimetype": "text/x-python",
   "name": "python",
   "nbconvert_exporter": "python",
   "pygments_lexer": "ipython3",
   "version": "3.9.4"
  },
  "orig_nbformat": 2,
  "kernelspec": {
   "name": "python394jvsc74a57bd0b839018028d7c5166b93bdc4222a30f5462b9cb20ffe1b3af6c70f0ea8ead087",
   "display_name": "Python 3.9.4 64-bit"
  }
 },
 "nbformat": 4,
 "nbformat_minor": 2,
 "cells": [
  {
   "cell_type": "code",
   "execution_count": 1,
   "metadata": {},
   "outputs": [
    {
     "output_type": "stream",
     "name": "stdout",
     "text": [
      "DICODING\n"
     ]
    }
   ],
   "source": [
    "# transformasi angka, karakter, dan string\n",
    "\n",
    "# mengubah huruf besar/kecil\n",
    "# upper()\n",
    "kata = 'dicoding'\n",
    "kata = kata.upper()\n",
    "print(kata)"
   ]
  },
  {
   "cell_type": "code",
   "execution_count": 2,
   "metadata": {},
   "outputs": [
    {
     "output_type": "stream",
     "name": "stdout",
     "text": [
      "dicoding\n"
     ]
    }
   ],
   "source": [
    "# lower()\n",
    "kata ='DICODING'\n",
    "kata = kata.lower()\n",
    "print(kata)"
   ]
  },
  {
   "cell_type": "code",
   "execution_count": 3,
   "metadata": {},
   "outputs": [
    {
     "output_type": "stream",
     "name": "stdout",
     "text": [
      "Dicoding\n"
     ]
    }
   ],
   "source": [
    "# awalan dan akhiran\n",
    "# rstrip()\n",
    "print('Dicoding     '.rstrip())"
   ]
  },
  {
   "cell_type": "code",
   "execution_count": 7,
   "metadata": {},
   "outputs": [
    {
     "output_type": "stream",
     "name": "stdout",
     "text": [
      "Dicoding\n"
     ]
    }
   ],
   "source": [
    "# lstrip()\n",
    "print('     Dicoding'.lstrip())"
   ]
  },
  {
   "cell_type": "code",
   "execution_count": 8,
   "metadata": {},
   "outputs": [
    {
     "output_type": "stream",
     "name": "stdout",
     "text": [
      "Dicoding\n"
     ]
    }
   ],
   "source": [
    "# strip()\n",
    "print('     Dicoding        '.strip())"
   ]
  },
  {
   "cell_type": "code",
   "execution_count": 9,
   "metadata": {},
   "outputs": [
    {
     "output_type": "stream",
     "name": "stdout",
     "text": [
      "Dicoding\n"
     ]
    }
   ],
   "source": [
    "kata = 'CodeCodeDicodingCodeCode'\n",
    "print(kata.strip('Code'))"
   ]
  },
  {
   "cell_type": "code",
   "execution_count": 10,
   "metadata": {},
   "outputs": [
    {
     "output_type": "stream",
     "name": "stdout",
     "text": [
      "True\n"
     ]
    }
   ],
   "source": [
    "# startswith()\n",
    "print('Dicoding Indonesia'.startswith('Dicoding'))"
   ]
  },
  {
   "cell_type": "code",
   "execution_count": 11,
   "metadata": {},
   "outputs": [
    {
     "output_type": "stream",
     "name": "stdout",
     "text": [
      "True\n"
     ]
    }
   ],
   "source": [
    "# endswith()\n",
    "print('Dicoding Indonesia'.endswith('Indonesia'))"
   ]
  },
  {
   "cell_type": "code",
   "execution_count": 14,
   "metadata": {},
   "outputs": [
    {
     "output_type": "stream",
     "name": "stdout",
     "text": [
      "Dicoding Indonesia !\nDicoding123Indonesia123!\n"
     ]
    }
   ],
   "source": [
    "# memisah dan menggabung string\n",
    "# join()\n",
    "print(' '.join(['Dicoding', 'Indonesia', '!']))\n",
    "print('123'.join(['Dicoding', 'Indonesia', '!']))"
   ]
  },
  {
   "cell_type": "code",
   "execution_count": 15,
   "metadata": {},
   "outputs": [
    {
     "output_type": "stream",
     "name": "stdout",
     "text": [
      "['Dicoding', 'Indonesia', '!']\n"
     ]
    }
   ],
   "source": [
    "# split()\n",
    "print('Dicoding Indonesia !'.split())"
   ]
  },
  {
   "cell_type": "code",
   "execution_count": 16,
   "metadata": {},
   "outputs": [
    {
     "output_type": "stream",
     "name": "stdout",
     "text": [
      "['Dicoding', 'Indonesia', '!']\n"
     ]
    }
   ],
   "source": [
    "print('Dicoding123Indonesia123!'.split('123'))"
   ]
  },
  {
   "cell_type": "code",
   "execution_count": 17,
   "metadata": {},
   "outputs": [
    {
     "output_type": "stream",
     "name": "stdout",
     "text": [
      "['Halo,', 'aku ikan,', 'aku suka sekali menyelam', 'aku tinggal di perairan.', 'Badanku licin dan renangku cepat.', 'Senang berkenalan denganmu']\n"
     ]
    }
   ],
   "source": [
    "print('''Halo,\n",
    "aku ikan,\n",
    "aku suka sekali menyelam\n",
    "aku tinggal di perairan.\n",
    "Badanku licin dan renangku cepat.\n",
    "Senang berkenalan denganmu'''.split('\\n'))"
   ]
  },
  {
   "cell_type": "code",
   "execution_count": 22,
   "metadata": {},
   "outputs": [
    {
     "output_type": "stream",
     "name": "stdout",
     "text": [
      "Ayo belajar Pemrograman di Dicoding\n"
     ]
    }
   ],
   "source": [
    "# mengganti elemen string\n",
    "# replace()\n",
    "string = \"Ayo belajar Coding di Dicoding\"\n",
    "print(string.replace(\"Coding\", \"Pemrograman\"))"
   ]
  },
  {
   "cell_type": "code",
   "execution_count": 23,
   "metadata": {},
   "outputs": [
    {
     "output_type": "stream",
     "name": "stdout",
     "text": [
      "Ayo belajar Pemrograman di Dicoding karena Coding adalah bahasa masa depan\n"
     ]
    }
   ],
   "source": [
    "string = \"Ayo belajar Coding di Dicoding karena Coding adalah bahasa masa depan\"\n",
    "print(string.replace(\"Coding\", \"Pemrograman\",1))"
   ]
  },
  {
   "cell_type": "code",
   "execution_count": 25,
   "metadata": {},
   "outputs": [
    {
     "output_type": "execute_result",
     "data": {
      "text/plain": [
       "True"
      ]
     },
     "metadata": {},
     "execution_count": 25
    }
   ],
   "source": [
    "# pengecekan string\n",
    "# isupper()\n",
    "kata = 'DICODING'\n",
    "kata.isupper()"
   ]
  },
  {
   "cell_type": "code",
   "execution_count": 26,
   "metadata": {},
   "outputs": [
    {
     "output_type": "execute_result",
     "data": {
      "text/plain": [
       "False"
      ]
     },
     "metadata": {},
     "execution_count": 26
    }
   ],
   "source": [
    "kata = 'Dicoding'\n",
    "kata.isupper()"
   ]
  },
  {
   "cell_type": "code",
   "execution_count": 27,
   "metadata": {},
   "outputs": [
    {
     "output_type": "execute_result",
     "data": {
      "text/plain": [
       "True"
      ]
     },
     "metadata": {},
     "execution_count": 27
    }
   ],
   "source": [
    "# islower()\n",
    "kata = 'dicoding'\n",
    "kata.islower()"
   ]
  },
  {
   "cell_type": "code",
   "execution_count": 28,
   "metadata": {},
   "outputs": [
    {
     "output_type": "execute_result",
     "data": {
      "text/plain": [
       "False"
      ]
     },
     "metadata": {},
     "execution_count": 28
    }
   ],
   "source": [
    "kata = 'Dicoding'\n",
    "kata.islower()"
   ]
  },
  {
   "cell_type": "code",
   "execution_count": 30,
   "metadata": {},
   "outputs": [
    {
     "output_type": "stream",
     "name": "stdout",
     "text": [
      "dicoding\nDICODING\nTrue\nFalse\n"
     ]
    }
   ],
   "source": [
    "print('Dicoding'.upper().lower())\n",
    "print('Dicoding'.lower().upper())\n",
    "print('DICODING'.upper().lower().islower())\n",
    "print('DICODING'.upper().lower().isupper())"
   ]
  },
  {
   "cell_type": "code",
   "execution_count": 31,
   "metadata": {},
   "outputs": [
    {
     "output_type": "execute_result",
     "data": {
      "text/plain": [
       "True"
      ]
     },
     "metadata": {},
     "execution_count": 31
    }
   ],
   "source": [
    "# isalpha()\n",
    "'dicoding'.isalpha()"
   ]
  },
  {
   "cell_type": "code",
   "execution_count": 32,
   "metadata": {},
   "outputs": [
    {
     "output_type": "execute_result",
     "data": {
      "text/plain": [
       "True"
      ]
     },
     "metadata": {},
     "execution_count": 32
    }
   ],
   "source": [
    "# isalnum()\n",
    "'dicoding123'.isalnum()"
   ]
  },
  {
   "cell_type": "code",
   "execution_count": null,
   "metadata": {},
   "outputs": [],
   "source": []
  },
  {
   "cell_type": "code",
   "execution_count": 33,
   "metadata": {},
   "outputs": [
    {
     "output_type": "execute_result",
     "data": {
      "text/plain": [
       "True"
      ]
     },
     "metadata": {},
     "execution_count": 33
    }
   ],
   "source": [
    "# isdecimal()\n",
    "'12345'.isdecimal()"
   ]
  },
  {
   "cell_type": "code",
   "execution_count": 34,
   "metadata": {},
   "outputs": [
    {
     "output_type": "execute_result",
     "data": {
      "text/plain": [
       "True"
      ]
     },
     "metadata": {},
     "execution_count": 34
    }
   ],
   "source": [
    "# isspace()\n",
    "'   '.isspace()"
   ]
  },
  {
   "cell_type": "code",
   "execution_count": 35,
   "metadata": {},
   "outputs": [
    {
     "output_type": "execute_result",
     "data": {
      "text/plain": [
       "True"
      ]
     },
     "metadata": {},
     "execution_count": 35
    }
   ],
   "source": [
    "'Dicoding Indonesia'.istitle()"
   ]
  },
  {
   "cell_type": "code",
   "execution_count": 37,
   "metadata": {},
   "outputs": [
    {
     "output_type": "stream",
     "name": "stdout",
     "text": [
      "Masukkan nama Anda: \n",
      "Masukkan nama Anda dengan benar.\n",
      "Masukkan nama Anda: \n",
      "Halo dicoding\n"
     ]
    }
   ],
   "source": [
    "while True:\n",
    "    print('Masukkan nama Anda: ')\n",
    "    name = input()\n",
    "    if name.isalpha():\n",
    "        print(\"Halo\", name)\n",
    "        break\n",
    "    print('Masukkan nama Anda dengan benar.')"
   ]
  },
  {
   "cell_type": "code",
   "execution_count": 41,
   "metadata": {},
   "outputs": [
    {
     "output_type": "stream",
     "name": "stdout",
     "text": [
      "00005\n00300\n-0.45\n-000.45\n"
     ]
    }
   ],
   "source": [
    "# formatting pada string\n",
    "# zfill()\n",
    "\n",
    "# contoh 1: penggunaan zfill 5 pada angka satuan\n",
    "angka = 5\n",
    "print(str(angka).zfill(5))\n",
    "\n",
    "# contoh 2: penggunaan zfill 5 pada angka ratusan\n",
    "angka = 300\n",
    "print(str(angka).zfill(5))\n",
    "\n",
    "# contoh 3: penggunaan zfill 5 pada angka desimal negatif (memiliki koma)\n",
    "angka = -0.45\n",
    "print(str(angka).zfill(5))\n",
    "\n",
    "# contoh 3: penggunaan zfill 7 pada angka desimal negatif (memiliki koma)\n",
    "angka = -0.45\n",
    "print(str(angka).zfill(7))"
   ]
  },
  {
   "cell_type": "code",
   "execution_count": 42,
   "metadata": {},
   "outputs": [
    {
     "output_type": "stream",
     "name": "stdout",
     "text": [
      "00aku\n0kamu\ndirinya\n"
     ]
    }
   ],
   "source": [
    "# penerapan zfill pada string\n",
    "\n",
    "# contoh 1\n",
    "kata = 'aku'\n",
    "print(kata.zfill(5))\n",
    "\n",
    "# contoh 2\n",
    "kata = 'kamu'\n",
    "print(kata.zfill(5))\n",
    "\n",
    "# contoh 3\n",
    "kata = 'dirinya'\n",
    "print(kata.zfill(5))"
   ]
  },
  {
   "cell_type": "code",
   "execution_count": 43,
   "metadata": {},
   "outputs": [
    {
     "output_type": "execute_result",
     "data": {
      "text/plain": [
       "'            Dicoding'"
      ]
     },
     "metadata": {},
     "execution_count": 43
    }
   ],
   "source": [
    "# rjust()\n",
    "'Dicoding'.rjust(20)"
   ]
  },
  {
   "cell_type": "code",
   "execution_count": 44,
   "metadata": {},
   "outputs": [
    {
     "output_type": "execute_result",
     "data": {
      "text/plain": [
       "'Dicoding            '"
      ]
     },
     "metadata": {},
     "execution_count": 44
    }
   ],
   "source": [
    "# ljust()\n",
    "'Dicoding'.ljust(20)"
   ]
  },
  {
   "cell_type": "code",
   "execution_count": 45,
   "metadata": {},
   "outputs": [
    {
     "output_type": "execute_result",
     "data": {
      "text/plain": [
       "'Dicoding!!!!!!!!!!!!'"
      ]
     },
     "metadata": {},
     "execution_count": 45
    }
   ],
   "source": [
    "'Dicoding'.ljust(20, '!')"
   ]
  },
  {
   "cell_type": "code",
   "execution_count": 46,
   "metadata": {},
   "outputs": [
    {
     "output_type": "execute_result",
     "data": {
      "text/plain": [
       "'      Dicoding      '"
      ]
     },
     "metadata": {},
     "execution_count": 46
    }
   ],
   "source": [
    "# center()\n",
    "'Dicoding'.center(20)"
   ]
  },
  {
   "cell_type": "code",
   "execution_count": 47,
   "metadata": {},
   "outputs": [
    {
     "output_type": "execute_result",
     "data": {
      "text/plain": [
       "'------Dicoding------'"
      ]
     },
     "metadata": {},
     "execution_count": 47
    }
   ],
   "source": [
    "'Dicoding'.center(20, '-')"
   ]
  },
  {
   "cell_type": "code",
   "execution_count": 48,
   "metadata": {},
   "outputs": [
    {
     "output_type": "error",
     "ename": "SyntaxError",
     "evalue": "invalid syntax (<ipython-input-48-9ea15008f763>, line 3)",
     "traceback": [
      "\u001b[1;36m  File \u001b[1;32m\"<ipython-input-48-9ea15008f763>\"\u001b[1;36m, line \u001b[1;32m3\u001b[0m\n\u001b[1;33m    st1 = 'Jum'at'\u001b[0m\n\u001b[1;37m               ^\u001b[0m\n\u001b[1;31mSyntaxError\u001b[0m\u001b[1;31m:\u001b[0m invalid syntax\n"
     ]
    }
   ],
   "source": [
    "# string literals\n",
    "\n",
    "st1 = 'Jum'at'"
   ]
  },
  {
   "cell_type": "code",
   "execution_count": 51,
   "metadata": {},
   "outputs": [
    {
     "output_type": "stream",
     "name": "stdout",
     "text": [
      "Jum'at\n"
     ]
    }
   ],
   "source": [
    "st1 = \"Jum'at\"\n",
    "print(st1)"
   ]
  },
  {
   "cell_type": "code",
   "execution_count": 50,
   "metadata": {},
   "outputs": [
    {
     "output_type": "stream",
     "name": "stdout",
     "text": [
      "Jum'at\n"
     ]
    }
   ],
   "source": [
    "st1 = 'Jum\\'at'\n",
    "print(st1)"
   ]
  },
  {
   "source": [
    "escape character\n",
    "\n",
    "- \\'Single quote\n",
    "- \\\"Double quote\n",
    "- \\t Tab\n",
    "- \\n Newline (line break)\n",
    "- \\\\ Backslash"
   ],
   "cell_type": "markdown",
   "metadata": {}
  },
  {
   "cell_type": "code",
   "execution_count": 52,
   "metadata": {},
   "outputs": [
    {
     "output_type": "stream",
     "name": "stdout",
     "text": [
      "Halo!\nKapan terakhir kali kita bertemu?\nKita bertemu hari Jum'at yang lalu.\n"
     ]
    }
   ],
   "source": [
    "print(\"Halo!\\nKapan terakhir kali kita bertemu?\\nKita bertemu hari Jum\\'at yang lalu.\")"
   ]
  },
  {
   "cell_type": "code",
   "execution_count": 53,
   "metadata": {},
   "outputs": [
    {
     "output_type": "stream",
     "name": "stdout",
     "text": [
      "Halo! \nKapan terakhir kita bertemu?\nKita bertemu hari Jum'at yang lalu.\n"
     ]
    }
   ],
   "source": [
    "multi_line = \"\"\"Halo! \n",
    "Kapan terakhir kita bertemu?\n",
    "Kita bertemu hari Jum'at yang lalu.\"\"\"\n",
    "print(multi_line)"
   ]
  },
  {
   "cell_type": "code",
   "execution_count": 54,
   "metadata": {},
   "outputs": [
    {
     "output_type": "stream",
     "name": "stdout",
     "text": [
      "Dicoding\\tIndonesia\n"
     ]
    }
   ],
   "source": [
    "# raw strings\n",
    "print(r'Dicoding\\tIndonesia')"
   ]
  },
  {
   "cell_type": "code",
   "execution_count": null,
   "metadata": {},
   "outputs": [],
   "source": []
  }
 ]
}