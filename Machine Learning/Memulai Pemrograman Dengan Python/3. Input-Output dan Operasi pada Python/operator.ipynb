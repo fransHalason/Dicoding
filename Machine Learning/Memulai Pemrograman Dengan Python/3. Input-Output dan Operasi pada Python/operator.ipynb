{
 "metadata": {
  "language_info": {
   "codemirror_mode": {
    "name": "ipython",
    "version": 3
   },
   "file_extension": ".py",
   "mimetype": "text/x-python",
   "name": "python",
   "nbconvert_exporter": "python",
   "pygments_lexer": "ipython3",
   "version": "3.9.4"
  },
  "orig_nbformat": 2,
  "kernelspec": {
   "name": "python394jvsc74a57bd0b839018028d7c5166b93bdc4222a30f5462b9cb20ffe1b3af6c70f0ea8ead087",
   "display_name": "Python 3.9.4 64-bit"
  }
 },
 "nbformat": 4,
 "nbformat_minor": 2,
 "cells": [
  {
   "cell_type": "code",
   "execution_count": 1,
   "metadata": {},
   "outputs": [
    {
     "output_type": "stream",
     "name": "stdout",
     "text": [
      "5\n"
     ]
    }
   ],
   "source": [
    "print(2 + 3)"
   ]
  },
  {
   "cell_type": "code",
   "execution_count": 2,
   "metadata": {},
   "outputs": [
    {
     "output_type": "stream",
     "name": "stdout",
     "text": [
      "15\n"
     ]
    }
   ],
   "source": [
    "print(3 * 5)"
   ]
  },
  {
   "cell_type": "code",
   "execution_count": 3,
   "metadata": {},
   "outputs": [
    {
     "output_type": "stream",
     "name": "stdout",
     "text": [
      "Kelereng hijau = 5\nKelereng kuning = 10\nlt(hijau, kuning): True\nle(hijau, kuning): True\neq(hijau, kuning): False\nne(hijau, kuning): True\nge(hijau, kuning): False\ngt(hijau, kuning): False\n"
     ]
    }
   ],
   "source": [
    "# penggunaan lt, le, eq, ne, ge, gt\n",
    "\n",
    "from operator import *\n",
    "hijau = 5\n",
    "kuning = 10\n",
    "print('Kelereng hijau = {}'.format(hijau))\n",
    "print('Kelereng kuning = {}'.format(kuning))\n",
    "for func in (lt, le, eq, ne, ge, gt):\n",
    "    print('{}(hijau, kuning): {}'.format(func.__name__, func(hijau, kuning)))"
   ]
  },
  {
   "cell_type": "code",
   "execution_count": 4,
   "metadata": {},
   "outputs": [],
   "source": [
    "# cara singkat menuliskan operasi\n",
    "a = 2\n",
    "a = a * 3"
   ]
  },
  {
   "cell_type": "code",
   "execution_count": 5,
   "metadata": {},
   "outputs": [],
   "source": [
    "a = 2\n",
    "a *= 3"
   ]
  }
 ]
}