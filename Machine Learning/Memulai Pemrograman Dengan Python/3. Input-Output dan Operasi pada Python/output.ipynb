{
 "metadata": {
  "language_info": {
   "codemirror_mode": {
    "name": "ipython",
    "version": 3
   },
   "file_extension": ".py",
   "mimetype": "text/x-python",
   "name": "python",
   "nbconvert_exporter": "python",
   "pygments_lexer": "ipython3",
   "version": "3.9.4"
  },
  "orig_nbformat": 2,
  "kernelspec": {
   "name": "python394jvsc74a57bd0b839018028d7c5166b93bdc4222a30f5462b9cb20ffe1b3af6c70f0ea8ead087",
   "display_name": "Python 3.9.4 64-bit"
  }
 },
 "nbformat": 4,
 "nbformat_minor": 2,
 "cells": [
  {
   "cell_type": "code",
   "execution_count": 1,
   "metadata": {},
   "outputs": [
    {
     "output_type": "stream",
     "name": "stdout",
     "text": [
      "Hello, World!\n"
     ]
    }
   ],
   "source": [
    "# Print\n",
    "print(\"Hello, World!\")"
   ]
  },
  {
   "cell_type": "code",
   "execution_count": 2,
   "metadata": {},
   "outputs": [
    {
     "output_type": "stream",
     "name": "stdout",
     "text": [
      "Nilai x adalah 100\n"
     ]
    }
   ],
   "source": [
    "# Memasukkan nilai variabel pada string\n",
    "x = 100\n",
    "print('Nilai x adalah', x)"
   ]
  },
  {
   "cell_type": "code",
   "execution_count": 4,
   "metadata": {},
   "outputs": [
    {
     "output_type": "stream",
     "name": "stdout",
     "text": [
      "hai bro\nHalo, Dicoding!\n"
     ]
    }
   ],
   "source": [
    "# string format\n",
    "print('hai {}'.format('bro'))\n",
    "\n",
    "nama = \"Dicoding\"\n",
    "print(\"Halo, %s!\"% nama)"
   ]
  },
  {
   "cell_type": "code",
   "execution_count": 6,
   "metadata": {},
   "outputs": [
    {
     "output_type": "stream",
     "name": "stdout",
     "text": [
      "Umur Dicoding adalah 5 tahun.\n"
     ]
    }
   ],
   "source": [
    "# menambahkan string dan integer\n",
    "nama =\"Dicoding\"\n",
    "umur = 5\n",
    "print(\"Umur %s adalah %d tahun.\" %(nama, umur))"
   ]
  },
  {
   "cell_type": "code",
   "execution_count": 7,
   "metadata": {},
   "outputs": [
    {
     "output_type": "stream",
     "name": "stdout",
     "text": [
      "Angka saya: [7, 9, 11, 13]\n"
     ]
    }
   ],
   "source": [
    "# menambahkan objek selain string (otomatis dikonversi)\n",
    "angka = [7, 9, 11, 13]\n",
    "print(\"Angka saya: %s\" % angka)"
   ]
  },
  {
   "source": [
    "```\n",
    "%s - String\n",
    "%d - Integer\n",
    "%f - Bilangan desimal (float)\n",
    "%.<digit>f - Bilangan desimal dengan sejumlah digit angka dibelakang koma\n",
    "%x/%X - Bilangan bulat dalam representasi Hexa (huruf kecil/huruf besar)\n",
    "```"
   ],
   "cell_type": "markdown",
   "metadata": {}
  },
  {
   "cell_type": "code",
   "execution_count": 10,
   "metadata": {},
   "outputs": [
    {
     "output_type": "stream",
     "name": "stdout",
     "text": [
      "10 11\na: a and b: B\n"
     ]
    }
   ],
   "source": [
    "a, b = 10, 11\n",
    "print(a, b)\n",
    "print('a: %x and b: %X' % (a, b))"
   ]
  },
  {
   "cell_type": "code",
   "execution_count": null,
   "metadata": {},
   "outputs": [],
   "source": []
  }
 ]
}