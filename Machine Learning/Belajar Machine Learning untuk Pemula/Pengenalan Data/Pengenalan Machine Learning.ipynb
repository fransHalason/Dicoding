{
 "metadata": {
  "language_info": {
   "codemirror_mode": {
    "name": "ipython",
    "version": 3
   },
   "file_extension": ".py",
   "mimetype": "text/x-python",
   "name": "python",
   "nbconvert_exporter": "python",
   "pygments_lexer": "ipython3",
   "version": "3.9.5"
  },
  "orig_nbformat": 4,
  "kernelspec": {
   "name": "python3",
   "display_name": "Python 3.9.5 64-bit"
  },
  "interpreter": {
   "hash": "b839018028d7c5166b93bdc4222a30f5462b9cb20ffe1b3af6c70f0ea8ead087"
  }
 },
 "nbformat": 4,
 "nbformat_minor": 2,
 "cells": [
  {
   "source": [
    "# Pengenalan Machine Learning"
   ],
   "cell_type": "markdown",
   "metadata": {}
  },
  {
   "cell_type": "code",
   "execution_count": 12,
   "metadata": {},
   "outputs": [
    {
     "output_type": "stream",
     "name": "stdout",
     "text": [
      "BERJALAN\n"
     ]
    }
   ],
   "source": [
    "kecepatan = 3\n",
    "\n",
    "if kecepatan < 4:\n",
    "    print('BERJALAN')"
   ]
  },
  {
   "cell_type": "code",
   "execution_count": 13,
   "metadata": {},
   "outputs": [
    {
     "output_type": "stream",
     "name": "stdout",
     "text": [
      "BERLARI\n"
     ]
    }
   ],
   "source": [
    "kecepatan = 12\n",
    "\n",
    "if kecepatan < 4:\n",
    "    print('BERJALAN')\n",
    "else:\n",
    "    print('BERLARI')"
   ]
  },
  {
   "cell_type": "code",
   "execution_count": 15,
   "metadata": {},
   "outputs": [
    {
     "output_type": "stream",
     "name": "stdout",
     "text": [
      "BERSEPEDA\n"
     ]
    }
   ],
   "source": [
    "kecepatan = 12\n",
    "\n",
    "if kecepatan < 4:\n",
    "    print('BERJALAN')\n",
    "elif kecepatan < 12: \n",
    "    print('BERLARI')\n",
    "else:\n",
    "    print('BERSEPEDA')"
   ]
  }
 ]
}