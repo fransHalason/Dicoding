{
 "metadata": {
  "language_info": {
   "codemirror_mode": {
    "name": "ipython",
    "version": 3
   },
   "file_extension": ".py",
   "mimetype": "text/x-python",
   "name": "python",
   "nbconvert_exporter": "python",
   "pygments_lexer": "ipython3",
   "version": "3.9.5"
  },
  "orig_nbformat": 4,
  "kernelspec": {
   "name": "python3",
   "display_name": "Python 3.9.5 64-bit"
  },
  "interpreter": {
   "hash": "b839018028d7c5166b93bdc4222a30f5462b9cb20ffe1b3af6c70f0ea8ead087"
  }
 },
 "nbformat": 4,
 "nbformat_minor": 2,
 "cells": [
  {
   "source": [
    "```\n",
    "data[‘bin’] = pd.cut(data[‘value’], bins=[0, 30,  70, 100], labels=[“Low”, “Mid”, “High”])\n",
    " \n",
    " \n",
    "    value    bin\n",
    "0      13    Low\n",
    "1      25    Low\n",
    "2      32    Mid\n",
    "3      94    High\n",
    "4      49    Mid\n",
    "```"
   ],
   "cell_type": "markdown",
   "metadata": {}
  },
  {
   "cell_type": "code",
   "execution_count": 7,
   "metadata": {},
   "outputs": [
    {
     "output_type": "stream",
     "name": "stdout",
     "text": [
      "Machine Learning Developer di Indonesia :\n                Name  Age\n0  Isyana Saraswati   30\n1  Nicholas Saputra   36\n2    Raisa Andriana   32\n\n Split kolom 'Name', lalu tambahkan kedua kolom : \n                Name  Age     First       Last\n0  Isyana Saraswati   30    Isyana  Saraswati\n1  Nicholas Saputra   36  Nicholas    Saputra\n2    Raisa Andriana   32     Raisa   Andriana\n"
     ]
    }
   ],
   "source": [
    "import pandas as pd \n",
    " \n",
    "Developer = pd.DataFrame({'Name': ['Isyana Saraswati', 'Nicholas Saputra', 'Raisa Andriana'], \n",
    "        'Age':[30, 36, 32]}) \n",
    "print(\"Machine Learning Developer di Indonesia :\\n\", Developer) \n",
    " \n",
    "Developer[['First','Last']] = Developer.Name.str.split(expand=True) \n",
    "print(\"\\n Split kolom 'Name', lalu tambahkan kedua kolom : \\n\", Developer)"
   ]
  },
  {
   "cell_type": "code",
   "execution_count": null,
   "metadata": {},
   "outputs": [],
   "source": []
  }
 ]
}